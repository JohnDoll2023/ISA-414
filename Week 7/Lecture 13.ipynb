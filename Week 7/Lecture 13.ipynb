{
 "cells": [
  {
   "cell_type": "markdown",
   "source": [
    "# ISA 414 - Managing Big Data\r\n",
    "## Lecture 13 – Data Analysis\r\n",
    "### Supervised Learning (Part II)"
   ],
   "metadata": {}
  },
  {
   "cell_type": "markdown",
   "source": [
    "#### Slide 16: Make sure you install the *sklearn* and *pandas* modules first by running **pip install sklearn** and **pip install pandas** in the Terminal."
   ],
   "metadata": {}
  },
  {
   "cell_type": "code",
   "execution_count": null,
   "source": [
    "import pandas as pd\r\n",
    "\r\n",
    "energy_data = pd.read_csv(\"energy_data.csv\")\r\n",
    "\r\n",
    "# checking the attribute types\r\n",
    "energy_data.dtypes"
   ],
   "outputs": [],
   "metadata": {}
  },
  {
   "cell_type": "markdown",
   "source": [
    "#### Slide 17"
   ],
   "metadata": {}
  },
  {
   "cell_type": "code",
   "execution_count": null,
   "source": [
    "# drop_first remove the first column since it is redundant\r\n",
    "energy_data = pd.get_dummies(energy_data, \r\n",
    "                         columns = [\"MaritalStatus\", \"IncomeLevel\", \"DwellingArea\", \"HasChildren\", \r\n",
    "                                    \"SolarRoof\", \"ShiftableLoad\", \"AttitudeSustainability\", \"Tariff\" ], \r\n",
    "                         drop_first = True)"
   ],
   "outputs": [],
   "metadata": {}
  },
  {
   "cell_type": "markdown",
   "source": [
    "#### Slide 18"
   ],
   "metadata": {}
  },
  {
   "cell_type": "code",
   "execution_count": null,
   "source": [
    "from sklearn.model_selection import train_test_split\r\n",
    "\r\n",
    "# the drop function returns all the columns in a data frame, except the specified ones\r\n",
    "x = energy_data.drop(columns=[\"AnnualConsumption\"])\r\n",
    "y = energy_data[\"AnnualConsumption\"]\r\n",
    "\r\n",
    "# 66% training and 34% test\r\n",
    "x_train, x_test, y_train, y_test = train_test_split(x, y, test_size = 0.34)"
   ],
   "outputs": [],
   "metadata": {}
  },
  {
   "cell_type": "markdown",
   "source": [
    "#### Slide 19"
   ],
   "metadata": {}
  },
  {
   "cell_type": "code",
   "execution_count": null,
   "source": [
    "from sklearn.tree import DecisionTreeRegressor\r\n",
    "\r\n",
    "# create decision tree classifer object\r\n",
    "tree_model = DecisionTreeRegressor()\r\n",
    "\r\n",
    "# train Decision Tree classifer\r\n",
    "tree_model = tree_model.fit(x_train, y_train)"
   ],
   "outputs": [],
   "metadata": {}
  },
  {
   "cell_type": "markdown",
   "source": [
    "#### Slide 20"
   ],
   "metadata": {}
  },
  {
   "cell_type": "code",
   "execution_count": null,
   "source": [
    "# predicting consumption on the test set\r\n",
    "y_pred = tree_model.predict(x_test)"
   ],
   "outputs": [],
   "metadata": {}
  },
  {
   "cell_type": "markdown",
   "source": [
    "#### Slide 27"
   ],
   "metadata": {}
  },
  {
   "cell_type": "code",
   "execution_count": null,
   "source": [
    "from sklearn.metrics import mean_absolute_error\r\n",
    "\r\n",
    "mean_absolute_error(y_test, y_pred)"
   ],
   "outputs": [],
   "metadata": {}
  },
  {
   "cell_type": "markdown",
   "source": [
    "#### Slide 28"
   ],
   "metadata": {}
  },
  {
   "cell_type": "code",
   "execution_count": null,
   "source": [
    "from sklearn.ensemble import RandomForestRegressor\r\n",
    "\r\n",
    "# creating a random forest\r\n",
    "model = RandomForestRegressor(n_estimators=200)\r\n",
    "\r\n",
    "# fittig the model\r\n",
    "model = model.fit(x_train,y_train)"
   ],
   "outputs": [],
   "metadata": {}
  },
  {
   "cell_type": "markdown",
   "source": [
    "#### Slide 29"
   ],
   "metadata": {}
  },
  {
   "cell_type": "code",
   "execution_count": null,
   "source": [
    "# predicting tariffs on the test set\r\n",
    "y_pred = model.predict(x_test)\r\n",
    "\r\n",
    "# printing overall accuracy on the test set\r\n",
    "mean_absolute_error(y_test, y_pred)"
   ],
   "outputs": [],
   "metadata": {}
  }
 ],
 "metadata": {
  "interpreter": {
   "hash": "1f581d018a546ff485bbe9afc04fe925a6dbac1faa56a245c7e60b68a5d49f26"
  },
  "kernelspec": {
   "name": "python3",
   "display_name": "Python 3.9.5 64-bit"
  },
  "language_info": {
   "codemirror_mode": {
    "name": "ipython",
    "version": 3
   },
   "file_extension": ".py",
   "mimetype": "text/x-python",
   "name": "python",
   "nbconvert_exporter": "python",
   "pygments_lexer": "ipython3",
   "version": "3.9.5"
  },
  "orig_nbformat": 4
 },
 "nbformat": 4,
 "nbformat_minor": 2
}