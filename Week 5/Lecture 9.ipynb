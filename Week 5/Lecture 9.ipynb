{
 "cells": [
  {
   "cell_type": "markdown",
   "source": [
    "# ISA 414 - Managing Big Data\r\n",
    "## Lecture 9 – Data Collection\r\n",
    "### APIs (Part I)"
   ],
   "metadata": {}
  },
  {
   "cell_type": "markdown",
   "source": [
    "#### slide 28: Make sure you install the *requests* module first by running **pip install requests** in the Terminal."
   ],
   "metadata": {}
  },
  {
   "cell_type": "code",
   "execution_count": null,
   "source": [
    "import requests\r\n",
    "\r\n",
    "response = requests.get(\"https://api.nytimes.com/svc/search/v2/articlesearch.json?api-key=ADD YOUR TOKE HERE&q='Microsoft'\")\r\n",
    "json_data = response.json()\r\n",
    "json_data"
   ],
   "outputs": [],
   "metadata": {}
  },
  {
   "cell_type": "markdown",
   "source": [
    "#### slide 30"
   ],
   "metadata": {}
  },
  {
   "cell_type": "code",
   "execution_count": null,
   "source": [
    "response_data = json_data['response']\r\n",
    "\r\n",
    "# keys immediately below response\r\n",
    "response_data.keys()"
   ],
   "outputs": [],
   "metadata": {}
  },
  {
   "cell_type": "markdown",
   "source": [
    "#### slide 31"
   ],
   "metadata": {}
  },
  {
   "cell_type": "code",
   "execution_count": null,
   "source": [
    "docs = response_data['docs']\r\n",
    "\r\n",
    "# docs is of type list\r\n",
    "print(type(docs))\r\n",
    "\r\n",
    "# printing docs\r\n",
    "docs"
   ],
   "outputs": [],
   "metadata": {}
  },
  {
   "cell_type": "code",
   "execution_count": null,
   "source": [
    "# retrieving the value associated with the main key, under the headline key, for each element of doc\r\n",
    "headlines = []\r\n",
    "for i in range(len(docs)):\r\n",
    "    headlines.append(docs[i]['headline']['main'])\r\n",
    "\r\n",
    "headlines"
   ],
   "outputs": [],
   "metadata": {}
  },
  {
   "cell_type": "markdown",
   "source": [
    "#### slide 32"
   ],
   "metadata": {}
  },
  {
   "cell_type": "code",
   "execution_count": null,
   "source": [
    "meta = response_data['meta']\r\n",
    "\r\n",
    "# meta is of type dict\r\n",
    "print(type(meta))\r\n",
    "\r\n",
    "# retrieving the value associated with hits\r\n",
    "meta['hits']"
   ],
   "outputs": [],
   "metadata": {}
  },
  {
   "cell_type": "code",
   "execution_count": null,
   "source": [
    "# the command below also return hits\r\n",
    "json_data['response']['meta']['hits']"
   ],
   "outputs": [],
   "metadata": {}
  }
 ],
 "metadata": {
  "interpreter": {
   "hash": "1f581d018a546ff485bbe9afc04fe925a6dbac1faa56a245c7e60b68a5d49f26"
  },
  "kernelspec": {
   "name": "python3",
   "display_name": "Python 3.9.5 64-bit"
  },
  "language_info": {
   "codemirror_mode": {
    "name": "ipython",
    "version": 3
   },
   "file_extension": ".py",
   "mimetype": "text/x-python",
   "name": "python",
   "nbconvert_exporter": "python",
   "pygments_lexer": "ipython3",
   "version": "3.9.5"
  },
  "orig_nbformat": 4
 },
 "nbformat": 4,
 "nbformat_minor": 2
}