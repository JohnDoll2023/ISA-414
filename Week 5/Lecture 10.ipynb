{
 "cells": [
  {
   "cell_type": "markdown",
   "source": [
    "# ISA 414 - Managing Big Data\r\n",
    "## Lecture 10 – Data Collection\r\n",
    "### APIs (Part II)"
   ],
   "metadata": {}
  },
  {
   "cell_type": "markdown",
   "source": [
    "#### Slide 18 \r\n",
    "Make sure to replace YOUR_API_KEY with the API Key from OpenWeatherMap"
   ],
   "metadata": {}
  },
  {
   "cell_type": "code",
   "execution_count": null,
   "source": [
    "import requests\r\n",
    "import xml.etree.ElementTree as ET\r\n",
    "\r\n",
    "url = \"http://api.openweathermap.org/data/2.5/weather?q=Cincinnati&mode=xml&appid=add-your_key_here\"\r\n",
    "\r\n",
    "# creating HTTP response object from given url\r\n",
    "response = requests.get(url)\r\n",
    "\r\n",
    "# saving the xml to a local file weather.xml\r\n",
    "with open('weather.xml', 'wb') as file:\r\n",
    "    file.write(response.content)"
   ],
   "outputs": [],
   "metadata": {}
  },
  {
   "cell_type": "markdown",
   "source": [
    "#### Slide 19"
   ],
   "metadata": {}
  },
  {
   "cell_type": "code",
   "execution_count": null,
   "source": [
    "# loadind data from local file to create the XML tree\r\n",
    "tree = ET.parse('weather.xml')\r\n",
    "root = tree.getroot()\r\n",
    "\r\n",
    "# the commands below indent and print the tree from the root node to the end\r\n",
    "ET.indent(root)\r\n",
    "print(ET.tostring(root, encoding='unicode'))"
   ],
   "outputs": [],
   "metadata": {}
  },
  {
   "cell_type": "markdown",
   "source": [
    "#### Slide 20"
   ],
   "metadata": {}
  },
  {
   "cell_type": "code",
   "execution_count": null,
   "source": [
    "print(root.tag)\r\n",
    "print(len(root))"
   ],
   "outputs": [],
   "metadata": {}
  },
  {
   "cell_type": "code",
   "execution_count": null,
   "source": [
    "# printing all the children of root\r\n",
    "for child in root:\r\n",
    "    print(child.tag)"
   ],
   "outputs": [],
   "metadata": {}
  },
  {
   "cell_type": "markdown",
   "source": [
    "#### Slide 21"
   ],
   "metadata": {}
  },
  {
   "cell_type": "code",
   "execution_count": null,
   "source": [
    "city = root[0]\r\n",
    "print(city[2].text)"
   ],
   "outputs": [],
   "metadata": {}
  },
  {
   "cell_type": "markdown",
   "source": [
    "#### Slide 22"
   ],
   "metadata": {}
  },
  {
   "cell_type": "code",
   "execution_count": null,
   "source": [
    "temperature = root[1]\r\n",
    "print(temperature.get(\"value\"))"
   ],
   "outputs": [],
   "metadata": {}
  },
  {
   "cell_type": "markdown",
   "source": [
    "#### Slide 30"
   ],
   "metadata": {}
  },
  {
   "cell_type": "code",
   "execution_count": null,
   "source": [
    "import requests\r\n",
    "response = requests.get(\"https://newsapi.org/v2/everything?q=Bitcoin&apiKey=add-your_key_here\")\r\n",
    "json_data = response.json()"
   ],
   "outputs": [],
   "metadata": {}
  }
 ],
 "metadata": {
  "interpreter": {
   "hash": "1f581d018a546ff485bbe9afc04fe925a6dbac1faa56a245c7e60b68a5d49f26"
  },
  "kernelspec": {
   "name": "python3",
   "display_name": "Python 3.9.5 64-bit"
  },
  "language_info": {
   "codemirror_mode": {
    "name": "ipython",
    "version": 3
   },
   "file_extension": ".py",
   "mimetype": "text/x-python",
   "name": "python",
   "nbconvert_exporter": "python",
   "pygments_lexer": "ipython3",
   "version": "3.9.5"
  },
  "orig_nbformat": 4
 },
 "nbformat": 4,
 "nbformat_minor": 2
}