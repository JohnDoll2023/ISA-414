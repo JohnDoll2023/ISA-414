{
 "cells": [
  {
   "cell_type": "markdown",
   "source": [
    "# John Doll\n",
    "## Question 1"
   ],
   "metadata": {}
  },
  {
   "cell_type": "code",
   "execution_count": 11,
   "source": [
    "# function to scrape given website and return data about football teams\n",
    "def scrape_football_data (url):\n",
    "    import requests   \n",
    "    import re\n",
    "    import pandas as pd\n",
    "    r = requests.get(url)\n",
    "    html_code = r.text\n",
    "    \n",
    "    # get team names\n",
    "    team_hits = re.finditer(\"(teamnum=[0-9]{1,2} TARGET=\\\"_BLANK\\\">)(.+?)(</A>)\", html_code)\n",
    "    team_matches = [m.group(2) for m in team_hits]\n",
    "    home_teams = []\n",
    "    away_teams = []\n",
    "    winning_teams = []\n",
    "\n",
    "    # add team names to winning team and either home or away team\n",
    "    for m in range(0, len(team_matches) - 2):\n",
    "        if (team_matches[m][:3] == \"<B>\"):\n",
    "            team_matches[m] = team_matches[m][3:-4]\n",
    "            winning_teams.append(team_matches[m])\n",
    "        if (m % 2 == 0):\n",
    "            home_teams.append(team_matches[m])\n",
    "        else:\n",
    "            away_teams.append(team_matches[m])\n",
    "\n",
    "    # get prediction rates\n",
    "    per_hits = re.finditer(\"(<NOBR>)(<B>){0,1}([0-9]{1,2})(</B>){0,1}(%){1}\", html_code)\n",
    "    percent = [p.group(3) for p in per_hits]\n",
    "    home_pred = []\n",
    "    away_pred = []\n",
    "\n",
    "    # split prediction rates into either home or away prediction\n",
    "    for p in range(0, len(percent)):\n",
    "        if (p % 2 == 0):\n",
    "            home_pred.append(percent[p])\n",
    "        else:\n",
    "            away_pred.append(percent[p])\n",
    "\n",
    "    # add all data to data frame and return it\n",
    "    df = pd.DataFrame({\"Home_Team\":home_teams, \"Away_team\":away_teams, \"Winner_Team\":winning_teams, \"Prediction_Home_Team\":home_pred, \"Prediction_Away_Team\":away_pred})\n",
    "    return df\n",
    "\n",
    "# get football data frame from function\n",
    "football_df = scrape_football_data(\"https://probabilityfootball.com/picks.html?1487349677&username=AVERAGES&weeknum=5\")"
   ],
   "outputs": [],
   "metadata": {}
  },
  {
   "cell_type": "markdown",
   "source": [
    "## Question 2"
   ],
   "metadata": {}
  },
  {
   "cell_type": "code",
   "execution_count": 12,
   "source": [
    "import pandas as pd\n",
    "weeks = []\n",
    "# loop over every week in the function and add that to an array of data frames\n",
    "for week in range(5, 22):\n",
    "    football_df = scrape_football_data(f\"https://probabilityfootball.com/picks.html?1487349677&username=AVERAGES&weeknum={week}\")\n",
    "    weeks.append(football_df)\n",
    "\n",
    "# add all the weeks to one data frame\n",
    "season = pd.concat(weeks)"
   ],
   "outputs": [],
   "metadata": {}
  },
  {
   "cell_type": "markdown",
   "source": [
    "## Question 3"
   ],
   "metadata": {}
  },
  {
   "cell_type": "code",
   "execution_count": 13,
   "source": [
    "import scipy.stats as ss\n",
    "import numpy as np\n",
    "# create column for winner predictions\n",
    "predictions_winner = []\n",
    "\n",
    "# assign all winner predictions\n",
    "for pred in range(0, 256):\n",
    "    if (season.iloc[pred, 1] == season.iloc[pred, 2]):\n",
    "        predictions_winner.append(season.iloc[pred, 4])\n",
    "    else:\n",
    "        predictions_winner.append(season.iloc[pred, 3])\n",
    "\n",
    "# convert predictions array to numeric values for ttest\n",
    "predictions_winner = np.array(predictions_winner).astype(float)\n",
    "\n",
    "# add winner predictions to data frame\n",
    "season = season.assign(predictions_winner = predictions_winner)\n",
    "\n",
    "# perform t-test \n",
    "ss.ttest_1samp(predictions_winner, 50)\n"
   ],
   "outputs": [
    {
     "output_type": "execute_result",
     "data": {
      "text/plain": [
       "Ttest_1sampResult(statistic=7.354975028437655, pvalue=2.6067816471438056e-12)"
      ]
     },
     "metadata": {},
     "execution_count": 13
    }
   ],
   "metadata": {}
  },
  {
   "cell_type": "markdown",
   "source": [
    "The resulting p-value is 2.61 x $10^{-12}$ which is significant with alpha level 0.05. Based on this result, we trust the experts to correctly pick the correct winner more than a coin flip on average. I feel that an unbiased coin is a fair comparison as it is just the same as someone randomly picking who will the game, and since we are testing if the experts are better than random at picking, this comparison makes sense."
   ],
   "metadata": {}
  }
 ],
 "metadata": {
  "orig_nbformat": 4,
  "language_info": {
   "name": "python",
   "version": "3.9.0",
   "mimetype": "text/x-python",
   "codemirror_mode": {
    "name": "ipython",
    "version": 3
   },
   "pygments_lexer": "ipython3",
   "nbconvert_exporter": "python",
   "file_extension": ".py"
  },
  "kernelspec": {
   "name": "python3",
   "display_name": "Python 3.9.0 64-bit"
  },
  "interpreter": {
   "hash": "aee8b7b246df8f9039afb4144a1f6fd8d2ca17a180786b69acc140d282b71a49"
  }
 },
 "nbformat": 4,
 "nbformat_minor": 2
}