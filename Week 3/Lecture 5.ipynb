{
 "cells": [
  {
   "cell_type": "markdown",
   "source": [
    "# ISA 414 - Managing Big Data\r\n",
    "## Lecture 5 - Preliminaries (Part IV): User-Defined Functions and Modules"
   ],
   "metadata": {}
  },
  {
   "cell_type": "markdown",
   "source": [
    "#### Slide 5"
   ],
   "metadata": {}
  },
  {
   "cell_type": "code",
   "execution_count": 1,
   "source": [
    "# the command below calculates the sum of 1 + 1\n",
    "1+1"
   ],
   "outputs": [
    {
     "output_type": "execute_result",
     "data": {
      "text/plain": [
       "2"
      ]
     },
     "metadata": {},
     "execution_count": 1
    }
   ],
   "metadata": {}
  },
  {
   "cell_type": "markdown",
   "source": [
    "#### Slide 6"
   ],
   "metadata": {}
  },
  {
   "cell_type": "code",
   "execution_count": 2,
   "source": [
    "1 + 1 # another comment "
   ],
   "outputs": [
    {
     "output_type": "execute_result",
     "data": {
      "text/plain": [
       "2"
      ]
     },
     "metadata": {},
     "execution_count": 2
    }
   ],
   "metadata": {}
  },
  {
   "cell_type": "code",
   "execution_count": 3,
   "source": [
    "\"\"\"\n",
    "A multi-line\n",
    "comment\n",
    "in Python\n",
    "\"\"\"\n",
    "print(\"See how everything above was ignored\") "
   ],
   "outputs": [
    {
     "output_type": "stream",
     "name": "stdout",
     "text": [
      "See how everything above was ignored\n"
     ]
    }
   ],
   "metadata": {}
  },
  {
   "cell_type": "markdown",
   "source": [
    "#### Slide 9"
   ],
   "metadata": {}
  },
  {
   "cell_type": "code",
   "execution_count": 4,
   "source": [
    "def RatioMaxMin(value_1, value_2):\n",
    "    ratio = max(value_1, value_2) / min(value_1, value_2)\n",
    "    return ratio"
   ],
   "outputs": [],
   "metadata": {}
  },
  {
   "cell_type": "markdown",
   "source": [
    "#### Slide 10"
   ],
   "metadata": {}
  },
  {
   "cell_type": "code",
   "execution_count": 5,
   "source": [
    "print(RatioMaxMin(10,2))\n",
    "print(RatioMaxMin(2, 10))\n",
    "print(RatioMaxMin(1,2))\n",
    "print(RatioMaxMin(10,0)) # this line causes an error\n",
    "print(RatioMaxMin(10,'2')) # this line causes an error"
   ],
   "outputs": [
    {
     "output_type": "stream",
     "name": "stdout",
     "text": [
      "5.0\n",
      "5.0\n",
      "2.0\n"
     ]
    },
    {
     "output_type": "error",
     "ename": "ZeroDivisionError",
     "evalue": "division by zero",
     "traceback": [
      "\u001b[0;31m---------------------------------------------------------------------------\u001b[0m",
      "\u001b[0;31mZeroDivisionError\u001b[0m                         Traceback (most recent call last)",
      "\u001b[0;32m/var/folders/88/l0rstcb91tn63mf9tdbd364r0000gn/T/ipykernel_749/4162358052.py\u001b[0m in \u001b[0;36m<module>\u001b[0;34m\u001b[0m\n\u001b[1;32m      2\u001b[0m \u001b[0mprint\u001b[0m\u001b[0;34m(\u001b[0m\u001b[0mRatioMaxMin\u001b[0m\u001b[0;34m(\u001b[0m\u001b[0;36m2\u001b[0m\u001b[0;34m,\u001b[0m \u001b[0;36m10\u001b[0m\u001b[0;34m)\u001b[0m\u001b[0;34m)\u001b[0m\u001b[0;34m\u001b[0m\u001b[0;34m\u001b[0m\u001b[0m\n\u001b[1;32m      3\u001b[0m \u001b[0mprint\u001b[0m\u001b[0;34m(\u001b[0m\u001b[0mRatioMaxMin\u001b[0m\u001b[0;34m(\u001b[0m\u001b[0;36m1\u001b[0m\u001b[0;34m,\u001b[0m\u001b[0;36m2\u001b[0m\u001b[0;34m)\u001b[0m\u001b[0;34m)\u001b[0m\u001b[0;34m\u001b[0m\u001b[0;34m\u001b[0m\u001b[0m\n\u001b[0;32m----> 4\u001b[0;31m \u001b[0mprint\u001b[0m\u001b[0;34m(\u001b[0m\u001b[0mRatioMaxMin\u001b[0m\u001b[0;34m(\u001b[0m\u001b[0;36m10\u001b[0m\u001b[0;34m,\u001b[0m\u001b[0;36m0\u001b[0m\u001b[0;34m)\u001b[0m\u001b[0;34m)\u001b[0m \u001b[0;31m# this line causes an error\u001b[0m\u001b[0;34m\u001b[0m\u001b[0;34m\u001b[0m\u001b[0m\n\u001b[0m\u001b[1;32m      5\u001b[0m \u001b[0mprint\u001b[0m\u001b[0;34m(\u001b[0m\u001b[0mRatioMaxMin\u001b[0m\u001b[0;34m(\u001b[0m\u001b[0;36m10\u001b[0m\u001b[0;34m,\u001b[0m\u001b[0;34m'2'\u001b[0m\u001b[0;34m)\u001b[0m\u001b[0;34m)\u001b[0m \u001b[0;31m# this line causes an error\u001b[0m\u001b[0;34m\u001b[0m\u001b[0;34m\u001b[0m\u001b[0m\n",
      "\u001b[0;32m/var/folders/88/l0rstcb91tn63mf9tdbd364r0000gn/T/ipykernel_749/1371184063.py\u001b[0m in \u001b[0;36mRatioMaxMin\u001b[0;34m(value_1, value_2)\u001b[0m\n\u001b[1;32m      1\u001b[0m \u001b[0;32mdef\u001b[0m \u001b[0mRatioMaxMin\u001b[0m\u001b[0;34m(\u001b[0m\u001b[0mvalue_1\u001b[0m\u001b[0;34m,\u001b[0m \u001b[0mvalue_2\u001b[0m\u001b[0;34m)\u001b[0m\u001b[0;34m:\u001b[0m\u001b[0;34m\u001b[0m\u001b[0;34m\u001b[0m\u001b[0m\n\u001b[0;32m----> 2\u001b[0;31m     \u001b[0mratio\u001b[0m \u001b[0;34m=\u001b[0m \u001b[0mmax\u001b[0m\u001b[0;34m(\u001b[0m\u001b[0mvalue_1\u001b[0m\u001b[0;34m,\u001b[0m \u001b[0mvalue_2\u001b[0m\u001b[0;34m)\u001b[0m \u001b[0;34m/\u001b[0m \u001b[0mmin\u001b[0m\u001b[0;34m(\u001b[0m\u001b[0mvalue_1\u001b[0m\u001b[0;34m,\u001b[0m \u001b[0mvalue_2\u001b[0m\u001b[0;34m)\u001b[0m\u001b[0;34m\u001b[0m\u001b[0;34m\u001b[0m\u001b[0m\n\u001b[0m\u001b[1;32m      3\u001b[0m     \u001b[0;32mreturn\u001b[0m \u001b[0mratio\u001b[0m\u001b[0;34m\u001b[0m\u001b[0;34m\u001b[0m\u001b[0m\n",
      "\u001b[0;31mZeroDivisionError\u001b[0m: division by zero"
     ]
    }
   ],
   "metadata": {}
  },
  {
   "cell_type": "markdown",
   "source": [
    "#### Slide 11"
   ],
   "metadata": {}
  },
  {
   "cell_type": "code",
   "execution_count": null,
   "source": [
    "def RatioMaxMin2(value_1, value_2 = 10):\n",
    "    ratio = max(value_1, value_2) / min(value_1, value_2)\n",
    "    return ratio"
   ],
   "outputs": [],
   "metadata": {}
  },
  {
   "cell_type": "markdown",
   "source": [
    "#### Slide 12"
   ],
   "metadata": {}
  },
  {
   "cell_type": "code",
   "execution_count": null,
   "source": [
    "print(RatioMaxMin2(10))\n",
    "print(RatioMaxMin2(5))\n",
    "print(RatioMaxMin2(5,2))"
   ],
   "outputs": [
    {
     "output_type": "stream",
     "name": "stdout",
     "text": [
      "1.0\n",
      "2.0\n",
      "2.5\n"
     ]
    }
   ],
   "metadata": {}
  },
  {
   "cell_type": "markdown",
   "source": [
    "#### Slide 13"
   ],
   "metadata": {}
  },
  {
   "cell_type": "code",
   "execution_count": null,
   "source": [
    "def RatioMaxMin3(value_1, value_2 = 10):\n",
    "    if type(value_1) == int and type(value_2) == int:\n",
    "        ratio = max(value_1, value_2) / min(value_1, value_2)\n",
    "        return ratio\n",
    "    else:\n",
    "        return \"One of the arguments is not of type integer\""
   ],
   "outputs": [],
   "metadata": {}
  },
  {
   "cell_type": "code",
   "execution_count": null,
   "source": [
    "# testing the above function\n",
    "print(RatioMaxMin3(10,2))\n",
    "print(RatioMaxMin3(10,\"2\"))"
   ],
   "outputs": [
    {
     "output_type": "stream",
     "name": "stdout",
     "text": [
      "5.0\n",
      "One of the arguments is not of type integer\n"
     ]
    }
   ],
   "metadata": {}
  },
  {
   "cell_type": "markdown",
   "source": [
    "#### Slide 14"
   ],
   "metadata": {}
  },
  {
   "cell_type": "code",
   "execution_count": null,
   "source": [
    "def RatioMaxMin3(value_1, value_2 = 10):\n",
    "    try:\n",
    "        ratio = max(value_1, value_2) / min(value_1, value_2)\n",
    "        return ratio\n",
    "    except:\n",
    "        return \"One of the arguments is not a number\""
   ],
   "outputs": [],
   "metadata": {}
  },
  {
   "cell_type": "code",
   "execution_count": null,
   "source": [
    "# testing the above function\n",
    "print(RatioMaxMin3(10,2))\n",
    "print(RatioMaxMin3(10,\"2\"))"
   ],
   "outputs": [],
   "metadata": {}
  },
  {
   "cell_type": "markdown",
   "source": [
    "#### Slide 19"
   ],
   "metadata": {}
  },
  {
   "cell_type": "code",
   "execution_count": null,
   "source": [
    "# first code\n",
    "import mymodule\n",
    "\n",
    "print(mymodule.increment_by_two (10))"
   ],
   "outputs": [
    {
     "output_type": "stream",
     "name": "stdout",
     "text": [
      "12\n"
     ]
    }
   ],
   "metadata": {}
  },
  {
   "cell_type": "code",
   "execution_count": null,
   "source": [
    "# second code\n",
    "import mymodule as mm\n",
    "\n",
    "print(mm.increment_by_two (10))"
   ],
   "outputs": [
    {
     "output_type": "stream",
     "name": "stdout",
     "text": [
      "12\n"
     ]
    }
   ],
   "metadata": {}
  },
  {
   "cell_type": "markdown",
   "source": [
    "#### Slide 20"
   ],
   "metadata": {}
  },
  {
   "cell_type": "code",
   "execution_count": null,
   "source": [
    "from mymodule import my_var\n",
    "\n",
    "print(my_var[1])"
   ],
   "outputs": [
    {
     "output_type": "stream",
     "name": "stdout",
     "text": [
      "414\n"
     ]
    }
   ],
   "metadata": {}
  },
  {
   "cell_type": "markdown",
   "source": [
    "#### Slide 27"
   ],
   "metadata": {}
  },
  {
   "cell_type": "code",
   "execution_count": 6,
   "source": [
    "from ipyleaflet import Map, Marker\n",
    "import pandas"
   ],
   "outputs": [],
   "metadata": {}
  },
  {
   "cell_type": "markdown",
   "source": [
    "#### Slide 28"
   ],
   "metadata": {}
  },
  {
   "cell_type": "code",
   "execution_count": 7,
   "source": [
    "# reading the data\n",
    "df = pandas.read_csv(\"web_log.csv\")\n",
    "\n",
    "df"
   ],
   "outputs": [
    {
     "output_type": "execute_result",
     "data": {
      "text/html": [
       "<div>\n",
       "<style scoped>\n",
       "    .dataframe tbody tr th:only-of-type {\n",
       "        vertical-align: middle;\n",
       "    }\n",
       "\n",
       "    .dataframe tbody tr th {\n",
       "        vertical-align: top;\n",
       "    }\n",
       "\n",
       "    .dataframe thead th {\n",
       "        text-align: right;\n",
       "    }\n",
       "</style>\n",
       "<table border=\"1\" class=\"dataframe\">\n",
       "  <thead>\n",
       "    <tr style=\"text-align: right;\">\n",
       "      <th></th>\n",
       "      <th>City</th>\n",
       "      <th>Client_IP</th>\n",
       "      <th>Country_Name</th>\n",
       "      <th>Latitude</th>\n",
       "      <th>Longitude</th>\n",
       "    </tr>\n",
       "  </thead>\n",
       "  <tbody>\n",
       "    <tr>\n",
       "      <th>0</th>\n",
       "      <td>Singapore</td>\n",
       "      <td>128.199.234.236</td>\n",
       "      <td>Singapore</td>\n",
       "      <td>1.293100</td>\n",
       "      <td>103.855797</td>\n",
       "    </tr>\n",
       "    <tr>\n",
       "      <th>1</th>\n",
       "      <td>Singapore</td>\n",
       "      <td>128.199.234.236</td>\n",
       "      <td>Singapore</td>\n",
       "      <td>1.293100</td>\n",
       "      <td>103.855797</td>\n",
       "    </tr>\n",
       "    <tr>\n",
       "      <th>2</th>\n",
       "      <td>Singapore</td>\n",
       "      <td>128.199.234.236</td>\n",
       "      <td>Singapore</td>\n",
       "      <td>1.293100</td>\n",
       "      <td>103.855797</td>\n",
       "    </tr>\n",
       "    <tr>\n",
       "      <th>3</th>\n",
       "      <td>Singapore</td>\n",
       "      <td>128.199.234.236</td>\n",
       "      <td>Singapore</td>\n",
       "      <td>1.293100</td>\n",
       "      <td>103.855797</td>\n",
       "    </tr>\n",
       "    <tr>\n",
       "      <th>4</th>\n",
       "      <td>Singapore</td>\n",
       "      <td>128.199.234.236</td>\n",
       "      <td>Singapore</td>\n",
       "      <td>1.293100</td>\n",
       "      <td>103.855797</td>\n",
       "    </tr>\n",
       "    <tr>\n",
       "      <th>...</th>\n",
       "      <td>...</td>\n",
       "      <td>...</td>\n",
       "      <td>...</td>\n",
       "      <td>...</td>\n",
       "      <td>...</td>\n",
       "    </tr>\n",
       "    <tr>\n",
       "      <th>994</th>\n",
       "      <td>Ashburn</td>\n",
       "      <td>54.227.93.32</td>\n",
       "      <td>United States</td>\n",
       "      <td>39.043701</td>\n",
       "      <td>-77.487503</td>\n",
       "    </tr>\n",
       "    <tr>\n",
       "      <th>995</th>\n",
       "      <td>Ashburn</td>\n",
       "      <td>54.227.93.32</td>\n",
       "      <td>United States</td>\n",
       "      <td>39.043701</td>\n",
       "      <td>-77.487503</td>\n",
       "    </tr>\n",
       "    <tr>\n",
       "      <th>996</th>\n",
       "      <td>Ashburn</td>\n",
       "      <td>54.227.93.32</td>\n",
       "      <td>United States</td>\n",
       "      <td>39.043701</td>\n",
       "      <td>-77.487503</td>\n",
       "    </tr>\n",
       "    <tr>\n",
       "      <th>997</th>\n",
       "      <td>Ashburn</td>\n",
       "      <td>54.227.93.32</td>\n",
       "      <td>United States</td>\n",
       "      <td>39.043701</td>\n",
       "      <td>-77.487503</td>\n",
       "    </tr>\n",
       "    <tr>\n",
       "      <th>998</th>\n",
       "      <td>Ashburn</td>\n",
       "      <td>54.227.93.32</td>\n",
       "      <td>United States</td>\n",
       "      <td>39.043701</td>\n",
       "      <td>-77.487503</td>\n",
       "    </tr>\n",
       "  </tbody>\n",
       "</table>\n",
       "<p>999 rows × 5 columns</p>\n",
       "</div>"
      ],
      "text/plain": [
       "          City        Client_IP   Country_Name   Latitude   Longitude\n",
       "0    Singapore  128.199.234.236      Singapore   1.293100  103.855797\n",
       "1    Singapore  128.199.234.236      Singapore   1.293100  103.855797\n",
       "2    Singapore  128.199.234.236      Singapore   1.293100  103.855797\n",
       "3    Singapore  128.199.234.236      Singapore   1.293100  103.855797\n",
       "4    Singapore  128.199.234.236      Singapore   1.293100  103.855797\n",
       "..         ...              ...            ...        ...         ...\n",
       "994    Ashburn     54.227.93.32  United States  39.043701  -77.487503\n",
       "995    Ashburn     54.227.93.32  United States  39.043701  -77.487503\n",
       "996    Ashburn     54.227.93.32  United States  39.043701  -77.487503\n",
       "997    Ashburn     54.227.93.32  United States  39.043701  -77.487503\n",
       "998    Ashburn     54.227.93.32  United States  39.043701  -77.487503\n",
       "\n",
       "[999 rows x 5 columns]"
      ]
     },
     "metadata": {},
     "execution_count": 7
    }
   ],
   "metadata": {}
  },
  {
   "cell_type": "code",
   "execution_count": 8,
   "source": [
    "# removing rows that contain duplicate combinations of latitude and longitude\n",
    "df = df.drop_duplicates([\"Latitude\",\"Longitude\"])\n",
    "\n",
    "df"
   ],
   "outputs": [
    {
     "output_type": "execute_result",
     "data": {
      "text/html": [
       "<div>\n",
       "<style scoped>\n",
       "    .dataframe tbody tr th:only-of-type {\n",
       "        vertical-align: middle;\n",
       "    }\n",
       "\n",
       "    .dataframe tbody tr th {\n",
       "        vertical-align: top;\n",
       "    }\n",
       "\n",
       "    .dataframe thead th {\n",
       "        text-align: right;\n",
       "    }\n",
       "</style>\n",
       "<table border=\"1\" class=\"dataframe\">\n",
       "  <thead>\n",
       "    <tr style=\"text-align: right;\">\n",
       "      <th></th>\n",
       "      <th>City</th>\n",
       "      <th>Client_IP</th>\n",
       "      <th>Country_Name</th>\n",
       "      <th>Latitude</th>\n",
       "      <th>Longitude</th>\n",
       "    </tr>\n",
       "  </thead>\n",
       "  <tbody>\n",
       "    <tr>\n",
       "      <th>0</th>\n",
       "      <td>Singapore</td>\n",
       "      <td>128.199.234.236</td>\n",
       "      <td>Singapore</td>\n",
       "      <td>1.293100</td>\n",
       "      <td>103.855797</td>\n",
       "    </tr>\n",
       "    <tr>\n",
       "      <th>5</th>\n",
       "      <td>Mountain View</td>\n",
       "      <td>66.249.76.236</td>\n",
       "      <td>United States</td>\n",
       "      <td>37.386002</td>\n",
       "      <td>-122.083801</td>\n",
       "    </tr>\n",
       "    <tr>\n",
       "      <th>6</th>\n",
       "      <td>Guiyang</td>\n",
       "      <td>222.85.131.87</td>\n",
       "      <td>China</td>\n",
       "      <td>26.583300</td>\n",
       "      <td>106.716698</td>\n",
       "    </tr>\n",
       "    <tr>\n",
       "      <th>8</th>\n",
       "      <td>Shanghai</td>\n",
       "      <td>101.226.168.225</td>\n",
       "      <td>China</td>\n",
       "      <td>31.045601</td>\n",
       "      <td>121.399696</td>\n",
       "    </tr>\n",
       "    <tr>\n",
       "      <th>12</th>\n",
       "      <td>Zhengzhou</td>\n",
       "      <td>182.118.25.227</td>\n",
       "      <td>China</td>\n",
       "      <td>34.683601</td>\n",
       "      <td>113.532501</td>\n",
       "    </tr>\n",
       "    <tr>\n",
       "      <th>17</th>\n",
       "      <td>Hyderabad</td>\n",
       "      <td>122.175.18.128</td>\n",
       "      <td>India</td>\n",
       "      <td>17.375299</td>\n",
       "      <td>78.474403</td>\n",
       "    </tr>\n",
       "    <tr>\n",
       "      <th>24</th>\n",
       "      <td>Beijing</td>\n",
       "      <td>180.76.6.144</td>\n",
       "      <td>China</td>\n",
       "      <td>39.928902</td>\n",
       "      <td>116.388298</td>\n",
       "    </tr>\n",
       "    <tr>\n",
       "      <th>38</th>\n",
       "      <td>Shenzhen</td>\n",
       "      <td>202.46.62.17</td>\n",
       "      <td>China</td>\n",
       "      <td>22.533300</td>\n",
       "      <td>114.133301</td>\n",
       "    </tr>\n",
       "    <tr>\n",
       "      <th>39</th>\n",
       "      <td>Tokyo</td>\n",
       "      <td>119.63.193.130</td>\n",
       "      <td>Japan</td>\n",
       "      <td>35.685001</td>\n",
       "      <td>139.751404</td>\n",
       "    </tr>\n",
       "    <tr>\n",
       "      <th>46</th>\n",
       "      <td>NaN</td>\n",
       "      <td>37.188.237.170</td>\n",
       "      <td>Czech Republic</td>\n",
       "      <td>49.750000</td>\n",
       "      <td>15.500000</td>\n",
       "    </tr>\n",
       "    <tr>\n",
       "      <th>74</th>\n",
       "      <td>Guangzhou</td>\n",
       "      <td>59.42.126.21</td>\n",
       "      <td>China</td>\n",
       "      <td>23.116699</td>\n",
       "      <td>113.250000</td>\n",
       "    </tr>\n",
       "    <tr>\n",
       "      <th>77</th>\n",
       "      <td>Tracy</td>\n",
       "      <td>108.239.134.115</td>\n",
       "      <td>United States</td>\n",
       "      <td>37.737499</td>\n",
       "      <td>-121.425797</td>\n",
       "    </tr>\n",
       "    <tr>\n",
       "      <th>78</th>\n",
       "      <td>NaN</td>\n",
       "      <td>8.35.201.55</td>\n",
       "      <td>United States</td>\n",
       "      <td>38.000000</td>\n",
       "      <td>-97.000000</td>\n",
       "    </tr>\n",
       "    <tr>\n",
       "      <th>80</th>\n",
       "      <td>Ashburn</td>\n",
       "      <td>107.22.83.91</td>\n",
       "      <td>United States</td>\n",
       "      <td>39.043701</td>\n",
       "      <td>-77.487503</td>\n",
       "    </tr>\n",
       "    <tr>\n",
       "      <th>119</th>\n",
       "      <td>NaN</td>\n",
       "      <td>91.199.119.254</td>\n",
       "      <td>Israel</td>\n",
       "      <td>31.500000</td>\n",
       "      <td>34.750000</td>\n",
       "    </tr>\n",
       "    <tr>\n",
       "      <th>123</th>\n",
       "      <td>Charlotte</td>\n",
       "      <td>143.165.48.50</td>\n",
       "      <td>United States</td>\n",
       "      <td>35.227100</td>\n",
       "      <td>-80.843102</td>\n",
       "    </tr>\n",
       "    <tr>\n",
       "      <th>125</th>\n",
       "      <td>Raleigh</td>\n",
       "      <td>99.3.64.127</td>\n",
       "      <td>United States</td>\n",
       "      <td>35.848000</td>\n",
       "      <td>-78.700401</td>\n",
       "    </tr>\n",
       "    <tr>\n",
       "      <th>135</th>\n",
       "      <td>Camponogara</td>\n",
       "      <td>87.0.176.240</td>\n",
       "      <td>Italy</td>\n",
       "      <td>45.384998</td>\n",
       "      <td>12.072200</td>\n",
       "    </tr>\n",
       "    <tr>\n",
       "      <th>155</th>\n",
       "      <td>Bangkok</td>\n",
       "      <td>61.90.20.30</td>\n",
       "      <td>Thailand</td>\n",
       "      <td>13.754000</td>\n",
       "      <td>100.501404</td>\n",
       "    </tr>\n",
       "    <tr>\n",
       "      <th>761</th>\n",
       "      <td>NaN</td>\n",
       "      <td>46.27.28.87</td>\n",
       "      <td>Spain</td>\n",
       "      <td>40.000000</td>\n",
       "      <td>-4.000000</td>\n",
       "    </tr>\n",
       "  </tbody>\n",
       "</table>\n",
       "</div>"
      ],
      "text/plain": [
       "              City        Client_IP    Country_Name   Latitude   Longitude\n",
       "0        Singapore  128.199.234.236       Singapore   1.293100  103.855797\n",
       "5    Mountain View    66.249.76.236   United States  37.386002 -122.083801\n",
       "6          Guiyang    222.85.131.87           China  26.583300  106.716698\n",
       "8         Shanghai  101.226.168.225           China  31.045601  121.399696\n",
       "12       Zhengzhou   182.118.25.227           China  34.683601  113.532501\n",
       "17       Hyderabad   122.175.18.128           India  17.375299   78.474403\n",
       "24         Beijing     180.76.6.144           China  39.928902  116.388298\n",
       "38        Shenzhen     202.46.62.17           China  22.533300  114.133301\n",
       "39           Tokyo   119.63.193.130           Japan  35.685001  139.751404\n",
       "46             NaN   37.188.237.170  Czech Republic  49.750000   15.500000\n",
       "74       Guangzhou     59.42.126.21           China  23.116699  113.250000\n",
       "77           Tracy  108.239.134.115   United States  37.737499 -121.425797\n",
       "78             NaN      8.35.201.55   United States  38.000000  -97.000000\n",
       "80         Ashburn     107.22.83.91   United States  39.043701  -77.487503\n",
       "119            NaN   91.199.119.254          Israel  31.500000   34.750000\n",
       "123      Charlotte    143.165.48.50   United States  35.227100  -80.843102\n",
       "125        Raleigh      99.3.64.127   United States  35.848000  -78.700401\n",
       "135    Camponogara     87.0.176.240           Italy  45.384998   12.072200\n",
       "155        Bangkok      61.90.20.30        Thailand  13.754000  100.501404\n",
       "761            NaN      46.27.28.87           Spain  40.000000   -4.000000"
      ]
     },
     "metadata": {},
     "execution_count": 8
    }
   ],
   "metadata": {}
  },
  {
   "cell_type": "code",
   "execution_count": 9,
   "source": [
    "# defining the city values that are missing as \"NA\". Without this, we would have an error later\n",
    "df[\"City\"] = df[\"City\"].fillna(\"NA\")\n",
    "\n",
    "df"
   ],
   "outputs": [
    {
     "output_type": "stream",
     "name": "stderr",
     "text": [
      "/var/folders/88/l0rstcb91tn63mf9tdbd364r0000gn/T/ipykernel_749/1958692684.py:2: SettingWithCopyWarning: \n",
      "A value is trying to be set on a copy of a slice from a DataFrame.\n",
      "Try using .loc[row_indexer,col_indexer] = value instead\n",
      "\n",
      "See the caveats in the documentation: https://pandas.pydata.org/pandas-docs/stable/user_guide/indexing.html#returning-a-view-versus-a-copy\n",
      "  df[\"City\"] = df[\"City\"].fillna(\"NA\")\n"
     ]
    },
    {
     "output_type": "execute_result",
     "data": {
      "text/html": [
       "<div>\n",
       "<style scoped>\n",
       "    .dataframe tbody tr th:only-of-type {\n",
       "        vertical-align: middle;\n",
       "    }\n",
       "\n",
       "    .dataframe tbody tr th {\n",
       "        vertical-align: top;\n",
       "    }\n",
       "\n",
       "    .dataframe thead th {\n",
       "        text-align: right;\n",
       "    }\n",
       "</style>\n",
       "<table border=\"1\" class=\"dataframe\">\n",
       "  <thead>\n",
       "    <tr style=\"text-align: right;\">\n",
       "      <th></th>\n",
       "      <th>City</th>\n",
       "      <th>Client_IP</th>\n",
       "      <th>Country_Name</th>\n",
       "      <th>Latitude</th>\n",
       "      <th>Longitude</th>\n",
       "    </tr>\n",
       "  </thead>\n",
       "  <tbody>\n",
       "    <tr>\n",
       "      <th>0</th>\n",
       "      <td>Singapore</td>\n",
       "      <td>128.199.234.236</td>\n",
       "      <td>Singapore</td>\n",
       "      <td>1.293100</td>\n",
       "      <td>103.855797</td>\n",
       "    </tr>\n",
       "    <tr>\n",
       "      <th>5</th>\n",
       "      <td>Mountain View</td>\n",
       "      <td>66.249.76.236</td>\n",
       "      <td>United States</td>\n",
       "      <td>37.386002</td>\n",
       "      <td>-122.083801</td>\n",
       "    </tr>\n",
       "    <tr>\n",
       "      <th>6</th>\n",
       "      <td>Guiyang</td>\n",
       "      <td>222.85.131.87</td>\n",
       "      <td>China</td>\n",
       "      <td>26.583300</td>\n",
       "      <td>106.716698</td>\n",
       "    </tr>\n",
       "    <tr>\n",
       "      <th>8</th>\n",
       "      <td>Shanghai</td>\n",
       "      <td>101.226.168.225</td>\n",
       "      <td>China</td>\n",
       "      <td>31.045601</td>\n",
       "      <td>121.399696</td>\n",
       "    </tr>\n",
       "    <tr>\n",
       "      <th>12</th>\n",
       "      <td>Zhengzhou</td>\n",
       "      <td>182.118.25.227</td>\n",
       "      <td>China</td>\n",
       "      <td>34.683601</td>\n",
       "      <td>113.532501</td>\n",
       "    </tr>\n",
       "    <tr>\n",
       "      <th>17</th>\n",
       "      <td>Hyderabad</td>\n",
       "      <td>122.175.18.128</td>\n",
       "      <td>India</td>\n",
       "      <td>17.375299</td>\n",
       "      <td>78.474403</td>\n",
       "    </tr>\n",
       "    <tr>\n",
       "      <th>24</th>\n",
       "      <td>Beijing</td>\n",
       "      <td>180.76.6.144</td>\n",
       "      <td>China</td>\n",
       "      <td>39.928902</td>\n",
       "      <td>116.388298</td>\n",
       "    </tr>\n",
       "    <tr>\n",
       "      <th>38</th>\n",
       "      <td>Shenzhen</td>\n",
       "      <td>202.46.62.17</td>\n",
       "      <td>China</td>\n",
       "      <td>22.533300</td>\n",
       "      <td>114.133301</td>\n",
       "    </tr>\n",
       "    <tr>\n",
       "      <th>39</th>\n",
       "      <td>Tokyo</td>\n",
       "      <td>119.63.193.130</td>\n",
       "      <td>Japan</td>\n",
       "      <td>35.685001</td>\n",
       "      <td>139.751404</td>\n",
       "    </tr>\n",
       "    <tr>\n",
       "      <th>46</th>\n",
       "      <td>NA</td>\n",
       "      <td>37.188.237.170</td>\n",
       "      <td>Czech Republic</td>\n",
       "      <td>49.750000</td>\n",
       "      <td>15.500000</td>\n",
       "    </tr>\n",
       "    <tr>\n",
       "      <th>74</th>\n",
       "      <td>Guangzhou</td>\n",
       "      <td>59.42.126.21</td>\n",
       "      <td>China</td>\n",
       "      <td>23.116699</td>\n",
       "      <td>113.250000</td>\n",
       "    </tr>\n",
       "    <tr>\n",
       "      <th>77</th>\n",
       "      <td>Tracy</td>\n",
       "      <td>108.239.134.115</td>\n",
       "      <td>United States</td>\n",
       "      <td>37.737499</td>\n",
       "      <td>-121.425797</td>\n",
       "    </tr>\n",
       "    <tr>\n",
       "      <th>78</th>\n",
       "      <td>NA</td>\n",
       "      <td>8.35.201.55</td>\n",
       "      <td>United States</td>\n",
       "      <td>38.000000</td>\n",
       "      <td>-97.000000</td>\n",
       "    </tr>\n",
       "    <tr>\n",
       "      <th>80</th>\n",
       "      <td>Ashburn</td>\n",
       "      <td>107.22.83.91</td>\n",
       "      <td>United States</td>\n",
       "      <td>39.043701</td>\n",
       "      <td>-77.487503</td>\n",
       "    </tr>\n",
       "    <tr>\n",
       "      <th>119</th>\n",
       "      <td>NA</td>\n",
       "      <td>91.199.119.254</td>\n",
       "      <td>Israel</td>\n",
       "      <td>31.500000</td>\n",
       "      <td>34.750000</td>\n",
       "    </tr>\n",
       "    <tr>\n",
       "      <th>123</th>\n",
       "      <td>Charlotte</td>\n",
       "      <td>143.165.48.50</td>\n",
       "      <td>United States</td>\n",
       "      <td>35.227100</td>\n",
       "      <td>-80.843102</td>\n",
       "    </tr>\n",
       "    <tr>\n",
       "      <th>125</th>\n",
       "      <td>Raleigh</td>\n",
       "      <td>99.3.64.127</td>\n",
       "      <td>United States</td>\n",
       "      <td>35.848000</td>\n",
       "      <td>-78.700401</td>\n",
       "    </tr>\n",
       "    <tr>\n",
       "      <th>135</th>\n",
       "      <td>Camponogara</td>\n",
       "      <td>87.0.176.240</td>\n",
       "      <td>Italy</td>\n",
       "      <td>45.384998</td>\n",
       "      <td>12.072200</td>\n",
       "    </tr>\n",
       "    <tr>\n",
       "      <th>155</th>\n",
       "      <td>Bangkok</td>\n",
       "      <td>61.90.20.30</td>\n",
       "      <td>Thailand</td>\n",
       "      <td>13.754000</td>\n",
       "      <td>100.501404</td>\n",
       "    </tr>\n",
       "    <tr>\n",
       "      <th>761</th>\n",
       "      <td>NA</td>\n",
       "      <td>46.27.28.87</td>\n",
       "      <td>Spain</td>\n",
       "      <td>40.000000</td>\n",
       "      <td>-4.000000</td>\n",
       "    </tr>\n",
       "  </tbody>\n",
       "</table>\n",
       "</div>"
      ],
      "text/plain": [
       "              City        Client_IP    Country_Name   Latitude   Longitude\n",
       "0        Singapore  128.199.234.236       Singapore   1.293100  103.855797\n",
       "5    Mountain View    66.249.76.236   United States  37.386002 -122.083801\n",
       "6          Guiyang    222.85.131.87           China  26.583300  106.716698\n",
       "8         Shanghai  101.226.168.225           China  31.045601  121.399696\n",
       "12       Zhengzhou   182.118.25.227           China  34.683601  113.532501\n",
       "17       Hyderabad   122.175.18.128           India  17.375299   78.474403\n",
       "24         Beijing     180.76.6.144           China  39.928902  116.388298\n",
       "38        Shenzhen     202.46.62.17           China  22.533300  114.133301\n",
       "39           Tokyo   119.63.193.130           Japan  35.685001  139.751404\n",
       "46              NA   37.188.237.170  Czech Republic  49.750000   15.500000\n",
       "74       Guangzhou     59.42.126.21           China  23.116699  113.250000\n",
       "77           Tracy  108.239.134.115   United States  37.737499 -121.425797\n",
       "78              NA      8.35.201.55   United States  38.000000  -97.000000\n",
       "80         Ashburn     107.22.83.91   United States  39.043701  -77.487503\n",
       "119             NA   91.199.119.254          Israel  31.500000   34.750000\n",
       "123      Charlotte    143.165.48.50   United States  35.227100  -80.843102\n",
       "125        Raleigh      99.3.64.127   United States  35.848000  -78.700401\n",
       "135    Camponogara     87.0.176.240           Italy  45.384998   12.072200\n",
       "155        Bangkok      61.90.20.30        Thailand  13.754000  100.501404\n",
       "761             NA      46.27.28.87           Spain  40.000000   -4.000000"
      ]
     },
     "metadata": {},
     "execution_count": 9
    }
   ],
   "metadata": {}
  },
  {
   "cell_type": "markdown",
   "source": [
    "#### Slide 29"
   ],
   "metadata": {}
  },
  {
   "cell_type": "code",
   "execution_count": 10,
   "source": [
    "# creating an empty map \n",
    "map = Map(zoom = 1)\n",
    "\n",
    "# for each row in df\n",
    "for i in range(len(df)):\n",
    "\n",
    "    # create a marker at the location (latitude[i], longitude[i])    \n",
    "    marker = Marker(location=(df.iloc[i,3], df.iloc[i,4]), \n",
    "                    draggable=False, # the marker cannot be dragged\n",
    "                    title = df.iloc[i,0]) # the text associated with the marker is the city's name\n",
    "    \n",
    "    # add marker to map    \n",
    "    map.add_layer(marker)\n",
    "\n",
    "# plot map\n",
    "map"
   ],
   "outputs": [
    {
     "output_type": "display_data",
     "data": {
      "application/vnd.jupyter.widget-view+json": {
       "version_major": 2,
       "version_minor": 0,
       "model_id": "aab8ca20d1be482db034e988ec7997b5"
      },
      "text/plain": [
       "Map(center=[0.0, 0.0], controls=(ZoomControl(options=['position', 'zoom_in_text', 'zoom_in_title', 'zoom_out_t…"
      ]
     },
     "metadata": {}
    }
   ],
   "metadata": {}
  }
 ],
 "metadata": {
  "interpreter": {
   "hash": "aee8b7b246df8f9039afb4144a1f6fd8d2ca17a180786b69acc140d282b71a49"
  },
  "kernelspec": {
   "name": "python3",
   "display_name": "Python 3.9.0 64-bit"
  },
  "language_info": {
   "codemirror_mode": {
    "name": "ipython",
    "version": 3
   },
   "file_extension": ".py",
   "mimetype": "text/x-python",
   "name": "python",
   "nbconvert_exporter": "python",
   "pygments_lexer": "ipython3",
   "version": "3.9.0"
  },
  "orig_nbformat": 4
 },
 "nbformat": 4,
 "nbformat_minor": 2
}