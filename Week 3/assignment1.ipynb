{
 "cells": [
  {
   "cell_type": "markdown",
   "source": [
    "# Question 1\n",
    "# John Doll"
   ],
   "metadata": {}
  },
  {
   "cell_type": "code",
   "execution_count": 22,
   "source": [
    "# start by loading the data\n",
    "file = open('access.log.txt', 'r')\n",
    "web_logs = file.readlines()"
   ],
   "outputs": [],
   "metadata": {}
  },
  {
   "cell_type": "markdown",
   "source": [
    "Q1-a)"
   ],
   "metadata": {}
  },
  {
   "cell_type": "code",
   "execution_count": 23,
   "source": [
    "import re\n",
    "\n",
    "# finding all the positions of the first space\n",
    "all_pos_first_space = [re.search(\" \", log).start(0) for log in web_logs]\n",
    "\n",
    "# substring all logs from position to first space\n",
    "IP = [web_logs[i][0:all_pos_first_space[i]:1] for i in range (len(web_logs))]\n",
    "\n",
    "# remove logged data\n",
    "web_logs = [web_logs[i][all_pos_first_space[i] + 6:] for i in range(len(web_logs))]"
   ],
   "outputs": [],
   "metadata": {}
  },
  {
   "cell_type": "markdown",
   "source": [
    "Q1-b)"
   ],
   "metadata": {}
  },
  {
   "cell_type": "code",
   "execution_count": 24,
   "source": [
    "# finding all the positions of the first bracket\n",
    "all_pos_first_bracket = [re.search(\" \", log).start(0) for log in web_logs]\n",
    "\n",
    "# substring all logs from position to first bracket\n",
    "Date = [web_logs[i][0:all_pos_first_bracket[i]:1] for i in range (len(web_logs))]\n",
    "\n",
    "# remove logged data\n",
    "web_logs = [web_logs[i][all_pos_first_bracket[i] + 9:] for i in range(len(web_logs))]"
   ],
   "outputs": [],
   "metadata": {}
  },
  {
   "cell_type": "markdown",
   "source": [
    "Q1-c)"
   ],
   "metadata": {}
  },
  {
   "cell_type": "code",
   "execution_count": 25,
   "source": [
    "# finding all the positions of the first space\n",
    "all_pos_first_space = [re.search(\" \", log).start(0) for log in web_logs]\n",
    "\n",
    "# substring all logs from position to first space\n",
    "Request = [web_logs[i][0:all_pos_first_space[i]:1] for i in range (len(web_logs))]\n",
    "\n",
    "# remove logged data\n",
    "web_logs = [web_logs[i][all_pos_first_space[i] + 1:] for i in range(len(web_logs))]"
   ],
   "outputs": [],
   "metadata": {}
  },
  {
   "cell_type": "markdown",
   "source": [
    "Q1-d)"
   ],
   "metadata": {}
  },
  {
   "cell_type": "code",
   "execution_count": 26,
   "source": [
    "# finding all the positions of the first space\n",
    "all_pos_first_space = [re.search(\" \", log).start(0) for log in web_logs]\n",
    "\n",
    "# substring all logs from position to first space\n",
    "Page = [web_logs[i][0:all_pos_first_space[i]:1] for i in range (len(web_logs))]\n",
    "\n",
    "# remove logged data\n",
    "web_logs = [web_logs[i][all_pos_first_space[i] + 6:] for i in range(len(web_logs))]"
   ],
   "outputs": [],
   "metadata": {}
  },
  {
   "cell_type": "markdown",
   "source": [
    "Q1-e)"
   ],
   "metadata": {}
  },
  {
   "cell_type": "code",
   "execution_count": 27,
   "source": [
    "# finding all the positions of the first space\n",
    "all_pos_first_space = [re.search(\" \", log).start(0) for log in web_logs]\n",
    "\n",
    "# substring all logs from position to first space\n",
    "HTTP_Version = [web_logs[i][0:all_pos_first_space[i]:1] for i in range (len(web_logs))]\n",
    "\n",
    "# remove logged data\n",
    "web_logs = [web_logs[i][all_pos_first_space[i] + 1:] for i in range(len(web_logs))]"
   ],
   "outputs": [],
   "metadata": {}
  },
  {
   "cell_type": "markdown",
   "source": [
    "Q1-f)"
   ],
   "metadata": {}
  },
  {
   "cell_type": "code",
   "execution_count": 28,
   "source": [
    "# finding all the positions of the first space\n",
    "all_pos_first_space = [re.search(\" \", log).start(0) for log in web_logs]\n",
    "\n",
    "# substring all logs from position to first space\n",
    "First_Code = [web_logs[i][0:all_pos_first_space[i]:1] for i in range (len(web_logs))]\n",
    "\n",
    "# remove logged data\n",
    "web_logs = [web_logs[i][all_pos_first_space[i] + 1:] for i in range(len(web_logs))]"
   ],
   "outputs": [],
   "metadata": {}
  },
  {
   "cell_type": "markdown",
   "source": [
    "Q1-g)"
   ],
   "metadata": {}
  },
  {
   "cell_type": "code",
   "execution_count": 29,
   "source": [
    "# finding all the positions of the first space\n",
    "all_pos_first_space = [re.search(\" \", log).start(0) for log in web_logs]\n",
    "\n",
    "# substring all logs from position to first space\n",
    "Second_Code = [web_logs[i][0:all_pos_first_space[i]:1] for i in range (len(web_logs))]\n",
    "\n",
    "# remove logged data\n",
    "web_logs = [web_logs[i][all_pos_first_space[i] + 6:] for i in range(len(web_logs))]"
   ],
   "outputs": [],
   "metadata": {}
  },
  {
   "cell_type": "markdown",
   "source": [
    "Q1-h)"
   ],
   "metadata": {}
  },
  {
   "cell_type": "code",
   "execution_count": 30,
   "source": [
    "# finding all the positions of the first space\n",
    "all_pos_first_space = [re.search(\"\\\\n\", log).start(0) for log in web_logs]\n",
    "\n",
    "# substring all logs from position to first space\n",
    "User_Agent = [web_logs[i][0:all_pos_first_space[i] - 1:1] for i in range (len(web_logs))]"
   ],
   "outputs": [],
   "metadata": {}
  },
  {
   "cell_type": "markdown",
   "source": [
    "Q1-i)"
   ],
   "metadata": {}
  },
  {
   "cell_type": "code",
   "execution_count": 31,
   "source": [
    "import pandas\n",
    "\n",
    "# Create df\n",
    "df = pandas.DataFrame({\"IP\":IP, \"Date\":Date, \"Request\":Request, \"Page\":Page, \"HTTP_Version\":HTTP_Version, \"First_Code\":First_Code, \"Second_Code\":Second_Code, \"User_Agent\":User_Agent})"
   ],
   "outputs": [],
   "metadata": {}
  },
  {
   "cell_type": "markdown",
   "source": [
    "Q1-j)"
   ],
   "metadata": {}
  },
  {
   "cell_type": "code",
   "execution_count": 32,
   "source": [
    "# save df to csv\n",
    "df.to_csv(\"data.csv\", index=False)"
   ],
   "outputs": [],
   "metadata": {}
  }
 ],
 "metadata": {
  "orig_nbformat": 4,
  "language_info": {
   "name": "python",
   "version": "3.9.0",
   "mimetype": "text/x-python",
   "codemirror_mode": {
    "name": "ipython",
    "version": 3
   },
   "pygments_lexer": "ipython3",
   "nbconvert_exporter": "python",
   "file_extension": ".py"
  },
  "kernelspec": {
   "name": "python3",
   "display_name": "Python 3.9.0 64-bit"
  },
  "interpreter": {
   "hash": "aee8b7b246df8f9039afb4144a1f6fd8d2ca17a180786b69acc140d282b71a49"
  }
 },
 "nbformat": 4,
 "nbformat_minor": 2
}