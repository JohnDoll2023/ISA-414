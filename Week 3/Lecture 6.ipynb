{
 "cells": [
  {
   "cell_type": "markdown",
   "source": [
    "# ISA 414 - Managing Big Data\r\n",
    "## Lecture 6 - Preliminaries (Part V): String Manipulation and Regular Expressions"
   ],
   "metadata": {}
  },
  {
   "cell_type": "markdown",
   "source": [
    "#### Slide 11"
   ],
   "metadata": {}
  },
  {
   "cell_type": "code",
   "execution_count": 2,
   "source": [
    "# note that we are simply reading lines here. This file is *not* a .CSV (tabular) file\n",
    "file = open('access.log.txt', 'r')\n",
    "web_logs = file.readlines()"
   ],
   "outputs": [],
   "metadata": {}
  },
  {
   "cell_type": "markdown",
   "source": [
    "#### slide 12"
   ],
   "metadata": {}
  },
  {
   "cell_type": "code",
   "execution_count": 3,
   "source": [
    "print(web_logs[0])\n",
    "print(type(web_logs[0]))\n",
    "len(web_logs[0])"
   ],
   "outputs": [
    {
     "output_type": "stream",
     "name": "stdout",
     "text": [
      "79.133.215.123 - - [14/Jun/2014:10:30:13 -0400] \"GET /home HTTP/1.1\" 200 1671 \"-\" \"Mozilla/5.0 (Windows NT 6.1; WOW64) AppleWebKit/537.36 (KHTML, like Gecko) Chrome/35.0.1916.153 Safari/537.36\"\n",
      "\n",
      "<class 'str'>\n"
     ]
    },
    {
     "output_type": "execute_result",
     "data": {
      "text/plain": [
       "194"
      ]
     },
     "metadata": {},
     "execution_count": 3
    }
   ],
   "metadata": {}
  },
  {
   "cell_type": "markdown",
   "source": [
    "#### slide 14"
   ],
   "metadata": {}
  },
  {
   "cell_type": "code",
   "execution_count": 4,
   "source": [
    "words = web_logs[0].split(\" \")\n",
    "print(words)"
   ],
   "outputs": [
    {
     "output_type": "stream",
     "name": "stdout",
     "text": [
      "['79.133.215.123', '-', '-', '[14/Jun/2014:10:30:13', '-0400]', '\"GET', '/home', 'HTTP/1.1\"', '200', '1671', '\"-\"', '\"Mozilla/5.0', '(Windows', 'NT', '6.1;', 'WOW64)', 'AppleWebKit/537.36', '(KHTML,', 'like', 'Gecko)', 'Chrome/35.0.1916.153', 'Safari/537.36\"\\n']\n"
     ]
    }
   ],
   "metadata": {}
  },
  {
   "cell_type": "markdown",
   "source": [
    "#### slide 15"
   ],
   "metadata": {}
  },
  {
   "cell_type": "code",
   "execution_count": 5,
   "source": [
    "IP = []\n",
    "for log in web_logs:\n",
    "    words = log.split()\n",
    "    IP.append(words[0])"
   ],
   "outputs": [],
   "metadata": {}
  },
  {
   "cell_type": "markdown",
   "source": [
    "#### slide 16"
   ],
   "metadata": {}
  },
  {
   "cell_type": "code",
   "execution_count": 6,
   "source": [
    "IP = [web_logs[i].split(\" \")[0] for i in range(len(web_logs))]"
   ],
   "outputs": [],
   "metadata": {}
  },
  {
   "cell_type": "markdown",
   "source": [
    "#### slide 19"
   ],
   "metadata": {}
  },
  {
   "cell_type": "code",
   "execution_count": 7,
   "source": [
    "import re\n",
    "\n",
    "# first parameter: pattern\n",
    "# second parameter: string\n",
    "hits = re.search(\" \", web_logs[0])\n",
    "\n",
    "# start: initial position where the found pattern starts\n",
    "# ignore the '0' for now. We get back to it in future classes\n",
    "pos_first_space = hits.start(0)\n",
    "print(pos_first_space)"
   ],
   "outputs": [
    {
     "output_type": "stream",
     "name": "stdout",
     "text": [
      "14\n"
     ]
    }
   ],
   "metadata": {}
  },
  {
   "cell_type": "markdown",
   "source": [
    "#### slide 20"
   ],
   "metadata": {}
  },
  {
   "cell_type": "code",
   "execution_count": 8,
   "source": [
    "hits = re.finditer(\" \", web_logs[0])\n",
    "\n",
    "all_space_positions = [m.start(0) for m in hits] \n",
    "print(all_space_positions)"
   ],
   "outputs": [
    {
     "output_type": "stream",
     "name": "stdout",
     "text": [
      "[14, 16, 18, 40, 47, 52, 58, 68, 72, 77, 81, 94, 103, 106, 111, 118, 137, 145, 150, 157, 178]\n"
     ]
    }
   ],
   "metadata": {}
  },
  {
   "cell_type": "code",
   "execution_count": null,
   "source": [
    "# same code as tge one above, but now using a for-loop\n",
    "hits = re.finditer(\" \", web_logs[0])\n",
    "\n",
    "# you can also write the code below as a for-loop iterating over hits\n",
    "all_space_positions = []\n",
    "for m in hits:\n",
    "    all_space_positions.append(m.start(0))\n",
    "\n",
    "print(all_space_positions)\n"
   ],
   "outputs": [],
   "metadata": {}
  },
  {
   "cell_type": "markdown",
   "source": [
    "#### slide 21"
   ],
   "metadata": {}
  },
  {
   "cell_type": "code",
   "execution_count": 9,
   "source": [
    "string   = web_logs[0]\n",
    "\n",
    "first_ip = string[0:pos_first_space:1]\n",
    "print(first_ip)"
   ],
   "outputs": [
    {
     "output_type": "stream",
     "name": "stdout",
     "text": [
      "79.133.215.123\n"
     ]
    }
   ],
   "metadata": {}
  },
  {
   "cell_type": "markdown",
   "source": [
    "#### slide 22"
   ],
   "metadata": {}
  },
  {
   "cell_type": "code",
   "execution_count": 10,
   "source": [
    "all_pos_first_space = [re.search(\" \", log).start(0) for log in web_logs]\n",
    "\n",
    "IPs = [web_logs[i][0:all_pos_first_space[i]:1] for i in range(len(web_logs))]\n",
    "\n",
    "# printing first 6 IPs\n",
    "print(IPs[0:6])\n",
    "\n",
    "# printing last 6 IPs\n",
    "print(IPs[-1:-7:-1])"
   ],
   "outputs": [
    {
     "output_type": "stream",
     "name": "stdout",
     "text": [
      "['79.133.215.123', '162.235.161.200', '39.244.91.133', '150.47.54.136', '217.89.36.129', '36.44.59.115']\n",
      "['167.228.157.189', '84.246.94.164', '152.208.225.65', '138.9.185.141', '64.232.194.248', '54.73.175.156']\n"
     ]
    }
   ],
   "metadata": {}
  },
  {
   "cell_type": "code",
   "execution_count": null,
   "source": [
    "# same code as the one above, but now using a for-loop\n",
    "\n",
    "all_pos_first_space = []\n",
    "\n",
    "for log in web_logs:\n",
    "    pos_first_space = re.search(\" \", log).start(0)\n",
    "    all_pos_first_space.append(pos_first_space)\n",
    "\n",
    "IPs = []\n",
    "for i in range(len(web_logs)):\n",
    "    ip = web_logs[i][0:all_pos_first_space[i]:1]\n",
    "    IPs.append(ip)\n",
    "\n",
    "# printing first 6 IPs\n",
    "print(IPs[0:6])\n",
    "\n",
    "# printing last 6 IPs\n",
    "print(IPs[-1:-7:-1])"
   ],
   "outputs": [],
   "metadata": {}
  },
  {
   "cell_type": "markdown",
   "source": [
    "#### slide 23"
   ],
   "metadata": {}
  },
  {
   "cell_type": "code",
   "execution_count": 11,
   "source": [
    "# first regular expression\n",
    "all_pos_HTTP = [re.search(\"HTTP\", log).start(0) for log in web_logs]\n",
    "\n",
    "# second regular expression - look at the escaping done with  \\\n",
    "all_pos_first_quote = [re.search(\"\\\"\", log).start(0) for log in web_logs]\n",
    "\n",
    "# third regular expression - look at the escaping done with  \\\n",
    "all_pos_first_bracket = [re.search(\"\\[\", log).start(0) for log in web_logs]"
   ],
   "outputs": [],
   "metadata": {}
  },
  {
   "cell_type": "markdown",
   "source": [
    "#### slide 24"
   ],
   "metadata": {}
  },
  {
   "cell_type": "code",
   "execution_count": 12,
   "source": [
    "all_pos_second_space = []\n",
    "\n",
    "for logs in web_logs:\n",
    "    hits = re.finditer(\" \", logs)\n",
    "    positions = [m.start(0) for m in hits] \n",
    "    all_pos_second_space.append(positions[1])"
   ],
   "outputs": [],
   "metadata": {}
  },
  {
   "cell_type": "markdown",
   "source": [
    "#### slide 25"
   ],
   "metadata": {}
  },
  {
   "cell_type": "code",
   "execution_count": 13,
   "source": [
    "modified_logs = [web_logs[i][all_pos_first_space[i]+1:] for i in range(len(web_logs))]\n",
    "\n",
    "print(web_logs[0])\n",
    "print(modified_logs[0])"
   ],
   "outputs": [
    {
     "output_type": "stream",
     "name": "stdout",
     "text": [
      "79.133.215.123 - - [14/Jun/2014:10:30:13 -0400] \"GET /home HTTP/1.1\" 200 1671 \"-\" \"Mozilla/5.0 (Windows NT 6.1; WOW64) AppleWebKit/537.36 (KHTML, like Gecko) Chrome/35.0.1916.153 Safari/537.36\"\n",
      "\n",
      "- - [14/Jun/2014:10:30:13 -0400] \"GET /home HTTP/1.1\" 200 1671 \"-\" \"Mozilla/5.0 (Windows NT 6.1; WOW64) AppleWebKit/537.36 (KHTML, like Gecko) Chrome/35.0.1916.153 Safari/537.36\"\n",
      "\n"
     ]
    }
   ],
   "metadata": {}
  }
 ],
 "metadata": {
  "interpreter": {
   "hash": "aee8b7b246df8f9039afb4144a1f6fd8d2ca17a180786b69acc140d282b71a49"
  },
  "kernelspec": {
   "name": "python3",
   "display_name": "Python 3.9.0 64-bit"
  },
  "language_info": {
   "codemirror_mode": {
    "name": "ipython",
    "version": 3
   },
   "file_extension": ".py",
   "mimetype": "text/x-python",
   "name": "python",
   "nbconvert_exporter": "python",
   "pygments_lexer": "ipython3",
   "version": "3.9.0"
  },
  "orig_nbformat": 4
 },
 "nbformat": 4,
 "nbformat_minor": 2
}