{
 "cells": [
  {
   "cell_type": "markdown",
   "source": [
    "# ISA 414 - Managing Big Data\r\n",
    "## Lecture 8 - Data Collection\r\n",
    "### Nongraded Homework"
   ],
   "metadata": {}
  },
  {
   "cell_type": "markdown",
   "source": [
    "#### There are several ways of solving this problem. Let's start by rerunning all the relevant code from Lecture 8."
   ],
   "metadata": {}
  },
  {
   "cell_type": "code",
   "execution_count": null,
   "source": [
    "import requests\r\n",
    "import re\r\n",
    "\r\n",
    "r = requests.get(\"https://miamioh.edu/fsb/\")\r\n",
    "html_code = r.text\r\n",
    "\r\n",
    "hits = re.finditer(\"cards-news__headline.+?</p>\", html_code)\r\n",
    "headlines = [m.group(0) for m in hits]\r\n",
    "headlines"
   ],
   "outputs": [],
   "metadata": {}
  },
  {
   "cell_type": "markdown",
   "source": [
    "#### I am now using the hint from slide 32"
   ],
   "metadata": {}
  },
  {
   "cell_type": "code",
   "execution_count": null,
   "source": [
    "# you can write a for-loop here, but list comprehension results in a shorter code\r\n",
    "headlines = [re.sub(\"cards-news__headline\\\">\",\"\", headlines[i]) for i in range(len(headlines))]\r\n",
    "headlines"
   ],
   "outputs": [],
   "metadata": {}
  },
  {
   "cell_type": "markdown",
   "source": [
    "#### I am now using the hint from slide 32"
   ],
   "metadata": {}
  },
  {
   "cell_type": "code",
   "execution_count": null,
   "source": [
    "headlines = [re.sub(\"</p>\",\"\", headlines[i]) for i in range(len(headlines))]\r\n",
    "headlines"
   ],
   "outputs": [],
   "metadata": {}
  }
 ],
 "metadata": {
  "interpreter": {
   "hash": "1f581d018a546ff485bbe9afc04fe925a6dbac1faa56a245c7e60b68a5d49f26"
  },
  "kernelspec": {
   "name": "python3",
   "display_name": "Python 3.9.5 64-bit"
  },
  "language_info": {
   "codemirror_mode": {
    "name": "ipython",
    "version": 3
   },
   "file_extension": ".py",
   "mimetype": "text/x-python",
   "name": "python",
   "nbconvert_exporter": "python",
   "pygments_lexer": "ipython3",
   "version": "3.9.5"
  },
  "orig_nbformat": 4
 },
 "nbformat": 4,
 "nbformat_minor": 2
}