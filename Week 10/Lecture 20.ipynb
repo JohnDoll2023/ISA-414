{
    "cells": [
        {
            "cell_type": "markdown",
            "metadata": {},
            "source": [
                "# ISA 414 - Managing Big Data\n",
                "## Lecture 20 – Cloud Computing and Storage (Part II)"
            ]
        },
        {
            "cell_type": "markdown",
            "metadata": {},
            "source": [
                "#### Slide 20\n",
                "I am using my own base URL and API key. Replace them with yours in case you created and IBM Cloud account"
            ]
        },
        {
            "cell_type": "code",
            "execution_count": 1,
            "metadata": {},
            "outputs": [],
            "source": [
                "base_url = \"https://api.us-south.natural-language-understanding.watson.cloud.ibm.com/instances/d6058b89-d39d-464c-a756-50658dd3124b\"\n",
                "api_key  = \"LeNnOkIAOfA5VBWG6B7luAFzEJn4Q-z24AqSrzHaAGuG\""
            ]
        },
        {
            "cell_type": "markdown",
            "metadata": {},
            "source": [
                "#### Slide 24: make sure you install the *requests* module first"
            ]
        },
        {
            "cell_type": "code",
            "execution_count": 2,
            "metadata": {},
            "outputs": [
                {
                    "data": {
                        "text/plain": [
                            "{'usage': {'text_units': 1, 'text_characters': 26, 'features': 1},\n",
                            " 'sentiment': {'document': {'score': -0.753484, 'label': 'negative'}},\n",
                            " 'language': 'en'}"
                        ]
                    },
                    "execution_count": 2,
                    "metadata": {},
                    "output_type": "execute_result"
                }
            ],
            "source": [
                "import requests\n",
                "\n",
                "content = \"NEVER STARBUCKS EVER AGAIN\"\n",
                "\n",
                "key_values = {'version': '2021-03-25', 'text': content, 'features':'sentiment'}\n",
                "response = requests.get(base_url+\"/v1/analyze\", \n",
                "                        key_values, \n",
                "                        auth = ('apikey', api_key))\n",
                "\n",
                "response.json()"
            ]
        },
        {
            "cell_type": "markdown",
            "metadata": {},
            "source": [
                "#### Slide 32"
            ]
        },
        {
            "cell_type": "code",
            "execution_count": 4,
            "metadata": {},
            "outputs": [
                {
                    "data": {
                        "text/plain": [
                            "{'tags': [{'name': 'cat', 'confidence': 0.9978209733963013},\n",
                            "  {'name': 'animal', 'confidence': 0.9921425580978394},\n",
                            "  {'name': 'mammal', 'confidence': 0.9652793407440186, 'hint': 'animal'},\n",
                            "  {'name': 'laying', 'confidence': 0.9550703763961792},\n",
                            "  {'name': 'domestic cat', 'confidence': 0.9458251595497131},\n",
                            "  {'name': 'carnivore', 'confidence': 0.9424388408660889},\n",
                            "  {'name': 'indoor', 'confidence': 0.927647054195404},\n",
                            "  {'name': 'brown', 'confidence': 0.8040927648544312},\n",
                            "  {'name': 'kitten', 'confidence': 0.7876701354980469},\n",
                            "  {'name': 'white', 'confidence': 0.7626372575759888},\n",
                            "  {'name': 'felidae', 'confidence': 0.728319525718689},\n",
                            "  {'name': 'feline', 'confidence': 0.6877667307853699},\n",
                            "  {'name': 'kitty', 'confidence': 0.682120680809021},\n",
                            "  {'name': 'whiskers', 'confidence': 0.6228079199790955},\n",
                            "  {'name': 'small to medium-sized cats', 'confidence': 0.5372613668441772}],\n",
                            " 'requestId': '45aa2d75-de4b-4b53-a55f-e8b6a32615f8',\n",
                            " 'metadata': {'height': 600, 'width': 800, 'format': 'Jpeg'}}"
                        ]
                    },
                    "execution_count": 4,
                    "metadata": {},
                    "output_type": "execute_result"
                }
            ],
            "source": [
                "import requests\n",
                "\n",
                "base_url  = \"https://arthur-carvalho-computer-vision.cognitiveservices.azure.com/vision/v3.0/analyze?visualFeatures=Tags\"\n",
                "api_key    = \"5b6645a4c53c44498c66f2f4004e7e48\"\n",
                "\n",
                "image = {'media': open('iamaperson.jpeg', 'rb')}\n",
                "authentication = {\"Ocp-Apim-Subscription-Key\":api_key}\n",
                "\n",
                "response = requests.post(base_url, files=image, headers=authentication)\n",
                "\n",
                "response.json()"
            ]
        }
    ],
    "metadata": {
        "interpreter": {
            "hash": "aee8b7b246df8f9039afb4144a1f6fd8d2ca17a180786b69acc140d282b71a49"
        },
        "kernelspec": {
            "display_name": "Python 3.9.0 64-bit",
            "name": "python3"
        },
        "language_info": {
            "codemirror_mode": {
                "name": "ipython",
                "version": 3
            },
            "file_extension": ".py",
            "mimetype": "text/x-python",
            "name": "python",
            "nbconvert_exporter": "python",
            "pygments_lexer": "ipython3",
            "version": "3.9.0"
        },
        "orig_nbformat": 4
    },
    "nbformat": 4,
    "nbformat_minor": 2
}
