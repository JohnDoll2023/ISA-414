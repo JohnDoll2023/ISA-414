{
    "cells": [
        {
            "cell_type": "markdown",
            "metadata": {},
            "source": [
                "# ISA 414 - Managing Big Data\n",
                "## Lecture 19 – Cloud Computing and Storage (Part I)"
            ]
        },
        {
            "cell_type": "markdown",
            "metadata": {},
            "source": [
                "#### Slide 32: make sure you install the *requests* module first"
            ]
        },
        {
            "cell_type": "code",
            "execution_count": 1,
            "metadata": {},
            "outputs": [],
            "source": [
                "import requests\n",
                "\n",
                "base_url  = \"https://api.us-south.natural-language-understanding.watson.cloud.ibm.com/instances/d6058b89-d39d-464c-a756-50658dd3124b\"\n",
                "api_key    = \"LeNnOkIAOfA5VBWG6B7luAFzEJn4Q-z24AqSrzHaAGuG\""
            ]
        },
        {
            "cell_type": "markdown",
            "metadata": {},
            "source": [
                "#### Slide 33"
            ]
        },
        {
            "cell_type": "code",
            "execution_count": 2,
            "metadata": {},
            "outputs": [],
            "source": [
                "content = \"She's got a smile that it seems to me reminds me of childhood memories where everything was as fresh as the bright blue sky\""
            ]
        },
        {
            "cell_type": "markdown",
            "metadata": {},
            "source": [
                "#### Slide 34"
            ]
        },
        {
            "cell_type": "code",
            "execution_count": 3,
            "metadata": {},
            "outputs": [
                {
                    "data": {
                        "text/plain": [
                            "{'usage': {'text_units': 1, 'text_characters': 123, 'features': 1},\n",
                            " 'sentiment': {'document': {'score': 0.979385, 'label': 'positive'}},\n",
                            " 'language': 'en'}"
                        ]
                    },
                    "execution_count": 3,
                    "metadata": {},
                    "output_type": "execute_result"
                }
            ],
            "source": [
                "key_values = {'version': '2021-08-01', 'text': content, 'features':'sentiment'}\n",
                "response = requests.get(base_url+\"/v1/analyze\", key_values, auth = ('apikey', api_key))\n",
                "\n",
                "response.json()"
            ]
        },
        {
            "cell_type": "markdown",
            "metadata": {},
            "source": [
                "#### Slide 35"
            ]
        },
        {
            "cell_type": "code",
            "execution_count": 4,
            "metadata": {},
            "outputs": [
                {
                    "data": {
                        "text/plain": [
                            "{'usage': {'text_units': 1, 'text_characters': 123, 'features': 3},\n",
                            " 'sentiment': {'document': {'score': 0.979385, 'label': 'positive'}},\n",
                            " 'language': 'en',\n",
                            " 'keywords': [{'text': 'childhood memories',\n",
                            "   'relevance': 0.973735,\n",
                            "   'count': 1},\n",
                            "  {'text': 'smile', 'relevance': 0.711604, 'count': 1},\n",
                            "  {'text': 'bright blue sky', 'relevance': 0.52412, 'count': 1}],\n",
                            " 'emotion': {'document': {'emotion': {'sadness': 0.145909,\n",
                            "    'joy': 0.838742,\n",
                            "    'fear': 0.005389,\n",
                            "    'disgust': 0.002717,\n",
                            "    'anger': 0.004285}}}}"
                        ]
                    },
                    "execution_count": 4,
                    "metadata": {},
                    "output_type": "execute_result"
                }
            ],
            "source": [
                "key_values = {'version': '2021-08-01', 'text': content, 'features':'sentiment,emotion,keywords'}\n",
                "response = requests.get(base_url+\"/v1/analyze\", key_values, auth = ('apikey', api_key))\n",
                "\n",
                "response.json()"
            ]
        }
    ],
    "metadata": {
        "interpreter": {
            "hash": "aee8b7b246df8f9039afb4144a1f6fd8d2ca17a180786b69acc140d282b71a49"
        },
        "kernelspec": {
            "display_name": "Python 3.9.0 64-bit",
            "name": "python3"
        },
        "language_info": {
            "codemirror_mode": {
                "name": "ipython",
                "version": 3
            },
            "file_extension": ".py",
            "mimetype": "text/x-python",
            "name": "python",
            "nbconvert_exporter": "python",
            "pygments_lexer": "ipython3",
            "version": "3.9.0"
        },
        "orig_nbformat": 4
    },
    "nbformat": 4,
    "nbformat_minor": 2
}
