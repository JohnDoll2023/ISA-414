{
 "cells": [
  {
   "cell_type": "markdown",
   "metadata": {},
   "source": [
    "# Homework 9\n",
    "# John Doll"
   ]
  },
  {
   "cell_type": "code",
   "execution_count": 3,
   "metadata": {},
   "outputs": [
    {
     "name": "stdout",
     "output_type": "stream",
     "text": [
      "Account not approved\n"
     ]
    }
   ],
   "source": [
    "import requests\n",
    "\n",
    "base_url  = \"https://arthur-carvalho-computer-vision.cognitiveservices.azure.com/vision/v3.0/analyze?visualFeatures=Tags\"\n",
    "api_key    = \"5b6645a4c53c44498c66f2f4004e7e48\"\n",
    "\n",
    "image = {'media': open('iamaperson.jpeg', 'rb')}\n",
    "authentication = {\"Ocp-Apim-Subscription-Key\":api_key}\n",
    "\n",
    "response = requests.post(base_url, files=image, headers=authentication)\n",
    "\n",
    "json_data = response.json()\n",
    "\n",
    "noHuman = True\n",
    "\n",
    "for img in json_data[\"tags\"]:\n",
    "    if img[\"name\"] == \"person\":\n",
    "        if img[\"confidence\"] > 0.9:\n",
    "            print(\"Account Approved\")\n",
    "            noHuman = False\n",
    "            break\n",
    "if noHuman:\n",
    "    print(\"Account not approved\")"
   ]
  }
 ],
 "metadata": {
  "interpreter": {
   "hash": "aee8b7b246df8f9039afb4144a1f6fd8d2ca17a180786b69acc140d282b71a49"
  },
  "kernelspec": {
   "display_name": "Python 3.9.0 64-bit",
   "name": "python3"
  },
  "language_info": {
   "codemirror_mode": {
    "name": "ipython",
    "version": 3
   },
   "file_extension": ".py",
   "mimetype": "text/x-python",
   "name": "python",
   "nbconvert_exporter": "python",
   "pygments_lexer": "ipython3",
   "version": "3.9.0"
  },
  "orig_nbformat": 4
 },
 "nbformat": 4,
 "nbformat_minor": 2
}
