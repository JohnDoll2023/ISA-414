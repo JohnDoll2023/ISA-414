{
 "cells": [
  {
   "cell_type": "code",
   "execution_count": 2,
   "metadata": {},
   "outputs": [
    {
     "name": "stdout",
     "output_type": "stream",
     "text": [
      "909\n",
      "387\n"
     ]
    }
   ],
   "source": [
    "import pandas\n",
    "\n",
    "raw_data = pandas.read_csv(\"starbucks.csv\", encoding='latin')\n",
    "\n",
    "from sklearn.feature_extraction.text import TfidfVectorizer\n",
    "\n",
    "vectorizer   = TfidfVectorizer(use_idf = False)\n",
    "tf_values = vectorizer.fit_transform(raw_data[\"message\"])\n",
    "\n",
    "all_word_names  = vectorizer.get_feature_names()\n",
    "\n",
    "# splitlines() remove the breakline character \\n from each list of words\n",
    "file = open('positive-words.txt', 'r')\n",
    "positive_words = file.read().splitlines() \n",
    "\n",
    "file = open('negative-words.txt', 'r')\n",
    "negative_words = file.read().splitlines() \n",
    "\n",
    "positive_scores = 0\n",
    "negative_scores = 0\n",
    "\n",
    "for i in range(0,len(raw_data)):\n",
    "    word_index = tf_values[i,:].nonzero()[1]\n",
    "    word_names = [all_word_names[w] for w in word_index]\n",
    "    count_positive_words = [positive_words.count(word) for word in word_names]\n",
    "    count_negative_words = [negative_words.count(word) for word in word_names]\n",
    "    score = sum(count_positive_words) - sum(count_negative_words)\n",
    "    if score > 0:\n",
    "        positive_scores += 1\n",
    "    elif score < 0:\n",
    "        negative_scores += 1\n",
    "\n",
    "print(positive_scores)\n",
    "print(negative_scores)"
   ]
  }
 ],
 "metadata": {
  "interpreter": {
   "hash": "aee8b7b246df8f9039afb4144a1f6fd8d2ca17a180786b69acc140d282b71a49"
  },
  "kernelspec": {
   "display_name": "Python 3.9.0 64-bit",
   "name": "python3"
  },
  "language_info": {
   "codemirror_mode": {
    "name": "ipython",
    "version": 3
   },
   "file_extension": ".py",
   "mimetype": "text/x-python",
   "name": "python",
   "nbconvert_exporter": "python",
   "pygments_lexer": "ipython3",
   "version": "3.9.0"
  },
  "orig_nbformat": 4
 },
 "nbformat": 4,
 "nbformat_minor": 2
}
