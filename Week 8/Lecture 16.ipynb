{
 "cells": [
  {
   "cell_type": "markdown",
   "metadata": {},
   "source": [
    "# ISA 414 - Managing Big Data\n",
    "## Lecture 16 – Text Mining (Part III)"
   ]
  },
  {
   "cell_type": "markdown",
   "metadata": {},
   "source": [
    "#### Slide 12"
   ]
  },
  {
   "cell_type": "code",
   "execution_count": 1,
   "metadata": {},
   "outputs": [],
   "source": [
    "import pandas\n",
    "\n",
    "raw_data = pandas.read_csv(\"abcnews-date-text.csv\")\n",
    "corpus = raw_data[\"headline_text\"]\n",
    "corpus = corpus[0:10000]"
   ]
  },
  {
   "cell_type": "markdown",
   "metadata": {},
   "source": [
    "#### Slide 13"
   ]
  },
  {
   "cell_type": "code",
   "execution_count": 2,
   "metadata": {},
   "outputs": [
    {
     "name": "stdout",
     "output_type": "stream",
     "text": [
      "  (0, 196)\t1\n",
      "  (0, 2456)\t1\n",
      "  (0, 1975)\t1\n",
      "  (0, 1310)\t1\n",
      "  (0, 5110)\t1\n",
      "  (1, 267)\t1\n",
      "  (1, 9681)\t1\n",
      "  (1, 801)\t1\n",
      "  (1, 2476)\t1\n",
      "  (2, 1459)\t1\n",
      "  (2, 4525)\t1\n",
      "  (2, 6786)\t1\n",
      "  (2, 8533)\t1\n",
      "  (3, 390)\t1\n",
      "  (3, 5970)\t1\n",
      "  (3, 8292)\t1\n",
      "  (3, 764)\t1\n",
      "  (3, 8441)\t1\n",
      "  (3, 6309)\t1\n",
      "  (3, 7404)\t1\n",
      "  (4, 390)\t1\n",
      "  (4, 5970)\t1\n",
      "  (4, 8441)\t1\n",
      "  (4, 334)\t1\n",
      "  (4, 768)\t1\n",
      "  :\t:\n",
      "  (9995, 389)\t1\n",
      "  (9995, 7085)\t1\n",
      "  (9996, 6460)\t1\n",
      "  (9996, 9293)\t1\n",
      "  (9996, 3886)\t1\n",
      "  (9996, 5130)\t1\n",
      "  (9996, 3928)\t1\n",
      "  (9996, 9369)\t1\n",
      "  (9996, 5366)\t1\n",
      "  (9997, 6058)\t1\n",
      "  (9997, 9369)\t1\n",
      "  (9997, 5045)\t1\n",
      "  (9997, 5823)\t1\n",
      "  (9997, 1882)\t1\n",
      "  (9997, 2818)\t1\n",
      "  (9998, 8760)\t1\n",
      "  (9998, 9021)\t1\n",
      "  (9998, 8595)\t1\n",
      "  (9998, 9527)\t1\n",
      "  (9998, 8206)\t1\n",
      "  (9999, 9525)\t1\n",
      "  (9999, 9700)\t1\n",
      "  (9999, 8467)\t1\n",
      "  (9999, 5728)\t1\n",
      "  (9999, 3737)\t1\n"
     ]
    }
   ],
   "source": [
    "from sklearn.feature_extraction.text import CountVectorizer\n",
    "\n",
    "# creating a transformation\n",
    "count_vect = CountVectorizer(stop_words='english')\n",
    "\n",
    "# fitting the transformation into our corpus\n",
    "dtm = count_vect.fit_transform(corpus)\n",
    "\n",
    "# note that our DTM has 10,000 observations (documents) and 9,820 columns (words)\n",
    "print(dtm)"
   ]
  },
  {
   "cell_type": "markdown",
   "metadata": {},
   "source": [
    "#### Slide 14"
   ]
  },
  {
   "cell_type": "code",
   "execution_count": 3,
   "metadata": {},
   "outputs": [
    {
     "data": {
      "text/plain": [
       "LatentDirichletAllocation(n_components=5, random_state=40)"
      ]
     },
     "execution_count": 3,
     "metadata": {},
     "output_type": "execute_result"
    }
   ],
   "source": [
    "from sklearn.decomposition import LatentDirichletAllocation\n",
    "\n",
    "# initializing LDA with 5; random_state ensures that we all get similiar results since the random seed is the same \n",
    "LDA = LatentDirichletAllocation(n_components=5, random_state = 40)\n",
    "\n",
    "# fitting LDA to our DTM (this operation might take a while)\n",
    "LDA.fit(dtm)"
   ]
  },
  {
   "cell_type": "markdown",
   "metadata": {},
   "source": [
    "#### Slide 15"
   ]
  },
  {
   "cell_type": "code",
   "execution_count": 4,
   "metadata": {},
   "outputs": [
    {
     "name": "stdout",
     "output_type": "stream",
     "text": [
      "[0.20044801 6.60006742 0.20357285 ... 0.20000656 0.20000597 1.16492059]\n"
     ]
    }
   ],
   "source": [
    "first_topic  = LDA.components_[0]\n",
    "second_topic = LDA.components_[1]\n",
    "third_topic  = LDA.components_[2]\n",
    "fourth_topic = LDA.components_[3]\n",
    "fifth_topic  = LDA.components_[4]\n",
    "\n",
    "\n",
    "print(first_topic)"
   ]
  },
  {
   "cell_type": "markdown",
   "metadata": {},
   "source": [
    "#### Slide 16"
   ]
  },
  {
   "cell_type": "code",
   "execution_count": 5,
   "metadata": {},
   "outputs": [
    {
     "name": "stdout",
     "output_type": "stream",
     "text": [
      "[4881 2242 3600 1806  848 2195 6460  540 5879 9483]\n"
     ]
    }
   ],
   "source": [
    "# argsort returns the indices of the sorted array, instead of values\n",
    "top10_index_1st_topic = first_topic.argsort()[-10:]\n",
    "top10_index_2nd_topic = second_topic.argsort()[-10:]\n",
    "top10_index_3rd_topic = third_topic.argsort()[-10:]\n",
    "top10_index_4th_topic = fourth_topic.argsort()[-10:]\n",
    "top10_index_5th_topic = fifth_topic.argsort()[-10:]\n",
    "\n",
    "print(top10_index_1st_topic)"
   ]
  },
  {
   "cell_type": "markdown",
   "metadata": {},
   "source": [
    "#### Slide 17"
   ]
  },
  {
   "cell_type": "code",
   "execution_count": 6,
   "metadata": {},
   "outputs": [
    {
     "name": "stderr",
     "output_type": "stream",
     "text": [
      "/Library/Frameworks/Python.framework/Versions/3.9/lib/python3.9/site-packages/sklearn/utils/deprecation.py:87: FutureWarning: Function get_feature_names is deprecated; get_feature_names is deprecated in 1.0 and will be removed in 1.2. Please use get_feature_names_out instead.\n",
      "  warnings.warn(msg, category=FutureWarning)\n"
     ]
    }
   ],
   "source": [
    "all_words = count_vect.get_feature_names()\n",
    "\n",
    "top10_words_1st_topic = [all_words[i] for i in top10_index_1st_topic] \n",
    "top10_words_2nd_topic = [all_words[i] for i in top10_index_2nd_topic] \n",
    "top10_words_3rd_topic = [all_words[i] for i in top10_index_3rd_topic] \n",
    "top10_words_4th_topic = [all_words[i] for i in top10_index_4th_topic] \n",
    "top10_words_5th_topic = [all_words[i] for i in top10_index_5th_topic] "
   ]
  },
  {
   "cell_type": "markdown",
   "metadata": {},
   "source": [
    "#### Slide 18: note that the last element in each array is the most popular word in the topic"
   ]
  },
  {
   "cell_type": "code",
   "execution_count": 7,
   "metadata": {},
   "outputs": [
    {
     "name": "stdout",
     "output_type": "stream",
     "text": [
      "First topic: \n",
      "['killed', 'crash', 'forces', 'claims', 'baghdad', 'council', 'plan', 'anti', 'new', 'war']\n",
      "Second topic: \n",
      "['anti', 'south', 'greens', 'denies', 'iraqi', 'world', 'cup', 'mp', 'iraq', 'war']\n",
      "Third topic: \n",
      "['plan', 'death', 'work', 'vic', 'water', 'korea', 'north', 'says', 'govt', 'iraq']\n",
      "Fourth topic: \n",
      "['qld', 'govt', 'nsw', 'probe', 'murder', 'charged', 'iraq', 'court', 'police', 'man']\n",
      "Fifth topic: \n",
      "['new', 'dead', 'oil', 'boost', 'council', 'iraqi', 'sars', 'security', 'iraq', 'report']\n"
     ]
    }
   ],
   "source": [
    "print(\"First topic: \")\n",
    "print(top10_words_1st_topic)\n",
    "\n",
    "print(\"Second topic: \")\n",
    "print(top10_words_2nd_topic)\n",
    "\n",
    "print(\"Third topic: \")\n",
    "print(top10_words_3rd_topic)\n",
    "\n",
    "print(\"Fourth topic: \")\n",
    "print(top10_words_4th_topic)\n",
    "\n",
    "print(\"Fifth topic: \")\n",
    "print(top10_words_5th_topic)"
   ]
  },
  {
   "cell_type": "markdown",
   "metadata": {},
   "source": [
    "#### Slide 18: make sure you run the following command in the terminal: *pip install pyldavis*"
   ]
  },
  {
   "cell_type": "code",
   "execution_count": 9,
   "metadata": {},
   "outputs": [
    {
     "name": "stderr",
     "output_type": "stream",
     "text": [
      "/Library/Frameworks/Python.framework/Versions/3.9/lib/python3.9/site-packages/sklearn/utils/deprecation.py:87: FutureWarning: Function get_feature_names is deprecated; get_feature_names is deprecated in 1.0 and will be removed in 1.2. Please use get_feature_names_out instead.\n",
      "  warnings.warn(msg, category=FutureWarning)\n",
      "/Library/Frameworks/Python.framework/Versions/3.9/lib/python3.9/site-packages/pyLDAvis/_prepare.py:246: FutureWarning: In a future version of pandas all arguments of DataFrame.drop except for the argument 'labels' will be keyword-only\n",
      "  default_term_info = default_term_info.sort_values(\n",
      "/Library/Frameworks/Python.framework/Versions/3.9/lib/python3.9/site-packages/past/builtins/misc.py:45: DeprecationWarning: the imp module is deprecated in favour of importlib; see the module's documentation for alternative uses\n",
      "  from imp import reload\n",
      "/Library/Frameworks/Python.framework/Versions/3.9/lib/python3.9/site-packages/past/builtins/misc.py:45: DeprecationWarning: the imp module is deprecated in favour of importlib; see the module's documentation for alternative uses\n",
      "  from imp import reload\n",
      "/Library/Frameworks/Python.framework/Versions/3.9/lib/python3.9/site-packages/past/builtins/misc.py:45: DeprecationWarning: the imp module is deprecated in favour of importlib; see the module's documentation for alternative uses\n",
      "  from imp import reload\n",
      "/Library/Frameworks/Python.framework/Versions/3.9/lib/python3.9/site-packages/past/builtins/misc.py:45: DeprecationWarning: the imp module is deprecated in favour of importlib; see the module's documentation for alternative uses\n",
      "  from imp import reload\n",
      "/Library/Frameworks/Python.framework/Versions/3.9/lib/python3.9/site-packages/past/builtins/misc.py:45: DeprecationWarning: the imp module is deprecated in favour of importlib; see the module's documentation for alternative uses\n",
      "  from imp import reload\n",
      "/Library/Frameworks/Python.framework/Versions/3.9/lib/python3.9/site-packages/past/builtins/misc.py:45: DeprecationWarning: the imp module is deprecated in favour of importlib; see the module's documentation for alternative uses\n",
      "  from imp import reload\n",
      "/Library/Frameworks/Python.framework/Versions/3.9/lib/python3.9/site-packages/past/builtins/misc.py:45: DeprecationWarning: the imp module is deprecated in favour of importlib; see the module's documentation for alternative uses\n",
      "  from imp import reload\n",
      "/Library/Frameworks/Python.framework/Versions/3.9/lib/python3.9/site-packages/past/builtins/misc.py:45: DeprecationWarning: the imp module is deprecated in favour of importlib; see the module's documentation for alternative uses\n",
      "  from imp import reload\n"
     ]
    },
    {
     "data": {
      "text/html": [
       "\n",
       "<link rel=\"stylesheet\" type=\"text/css\" href=\"https://cdn.jsdelivr.net/gh/bmabey/pyLDAvis@3.3.1/pyLDAvis/js/ldavis.v1.0.0.css\">\n",
       "\n",
       "\n",
       "<div id=\"ldavis_el919381402520317289927407990709\"></div>\n",
       "<script type=\"text/javascript\">\n",
       "\n",
       "var ldavis_el919381402520317289927407990709_data = {\"mdsDat\": {\"x\": [-0.19638642725804614, 0.030026419015403753, 0.04514120704937745, 0.03970846152875396, 0.08151033966451103], \"y\": [0.019807817170264967, 0.047046270069545607, -0.05604298919121964, -0.14086495973552537, 0.13005386168693428], \"topics\": [1, 2, 3, 4, 5], \"cluster\": [1, 1, 1, 1, 1], \"Freq\": [21.330157138972883, 21.2700197920919, 21.25453850040757, 19.041766704882967, 17.10351786364466]}, \"tinfo\": {\"Term\": [\"man\", \"court\", \"police\", \"anti\", \"report\", \"charged\", \"murder\", \"korea\", \"security\", \"war\", \"man\", \"murder\", \"trial\", \"charge\", \"backs\", \"pakistan\", \"stabbing\", \"bali\", \"arrest\", \"dengue\", \"charged\", \"court\", \"probe\", \"police\", \"hospital\", \"face\", \"qld\", \"iraq\", \"nsw\", \"govt\", \"korea\", \"work\", \"missile\", \"aid\", \"hill\", \"push\", \"free\", \"fires\", \"issue\", \"raids\", \"north\", \"defends\", \"vic\", \"iraq\", \"govt\", \"water\", \"says\", \"death\", \"troops\", \"plan\", \"rally\", \"investigation\", \"blast\", \"helicopter\", \"dept\", \"amp\", \"sri\", \"pilot\", \"journalists\", \"safe\", \"forces\", \"ahead\", \"land\", \"anti\", \"protesters\", \"protest\", \"war\", \"new\", \"plan\", \"baghdad\", \"claims\", \"crash\", \"council\", \"killed\", \"security\", \"indian\", \"investigate\", \"best\", \"mystery\", \"russia\", \"strike\", \"sharks\", \"uni\", \"looking\", \"crows\", \"report\", \"sars\", \"reports\", \"funding\", \"school\", \"oil\", \"dead\", \"boost\", \"iraqi\", \"council\", \"iraq\", \"new\", \"hewitt\", \"tells\", \"highlights\", \"international\", \"crashes\", \"survey\", \"families\", \"insurance\", \"blue\", \"upset\", \"success\", \"championship\", \"greens\", \"mp\", \"cup\", \"rise\", \"world\", \"war\", \"south\", \"denies\", \"iraq\", \"iraqi\", \"pay\", \"anti\"], \"Freq\": [210.0, 113.0, 264.0, 105.0, 76.0, 66.0, 58.0, 57.0, 53.0, 334.0, 208.7463650426232, 57.8342201003235, 41.08703151323459, 36.93195373568887, 29.416738955119513, 29.403448266784004, 26.91115938771752, 22.725403524580997, 16.839621795764966, 15.210575962024627, 63.344276216026934, 103.61904808419136, 57.76910112722585, 173.1046627259524, 52.11372883751526, 47.97010685685445, 52.43863945992742, 86.19270400369504, 55.96290151722936, 53.4264091645627, 57.1818607108922, 42.926852113204305, 36.21826379361748, 33.70414042423474, 26.995794696106785, 26.96150274556833, 24.47987082499436, 20.28774328005079, 16.09579949255063, 16.094846718797797, 57.98575465141994, 37.380749111182446, 45.553065890454064, 130.9772020587394, 86.40763599219916, 51.30448194906282, 60.94550742953039, 41.855890359505665, 39.970565275569285, 40.87705830121914, 31.885384108293774, 26.040612820954994, 22.67170734688462, 19.363740509030944, 15.19035981329506, 15.190088564916662, 12.68557716504724, 12.68550809805625, 12.684501497085414, 11.851597413086512, 50.93201669972445, 34.83169470583778, 35.20321586164166, 78.14004814780243, 39.41724228449437, 40.122674264196235, 157.6988016267663, 102.12368312404202, 67.0201626266058, 63.62367741788798, 54.51778433026365, 49.595816242273486, 66.09741542390398, 48.366460867805586, 52.63029833786621, 24.331252740150873, 21.828912423501944, 20.16230951745139, 15.998054575830459, 15.997994176335801, 35.15004261407452, 15.165800465014442, 15.165384128297399, 14.329697811194666, 15.07013516298977, 64.28805073817104, 50.899152984058865, 28.244134651498445, 35.628294828701584, 26.243368273749127, 40.06214936427721, 37.71669770896756, 40.35893410504858, 48.10437226898855, 46.99784881877113, 59.84956448838839, 35.719657370253856, 22.704855329852553, 21.88536108198331, 19.379867236775077, 16.87387376579886, 15.203933982256787, 15.202539705290558, 14.367162372213377, 13.531763238398453, 11.863862346908991, 11.859454448136379, 14.993000176266449, 12.537570229760005, 27.62617077943015, 46.44625535208321, 44.01850630579373, 24.711235245624607, 43.3284555053192, 81.23235913859344, 27.198662514693076, 28.41982250116832, 50.54615878050238, 32.54519929612896, 24.921847282168486, 26.550947072267892], \"Total\": [210.0, 113.0, 264.0, 105.0, 76.0, 66.0, 58.0, 57.0, 53.0, 334.0, 210.61825345923447, 58.50534366631761, 41.7894649403901, 37.6105007930838, 30.088370762274057, 30.08834244632248, 27.580987715517846, 23.402028433202748, 17.551540104338216, 15.879881146630439, 66.87252031888015, 113.66471341764381, 62.67218630883995, 264.91033993766183, 76.03340423942025, 66.83260387439675, 90.28755330628657, 373.7789198151934, 119.5162958599573, 213.2750114961947, 57.85396023372061, 43.599361572194034, 36.89131425840888, 34.37580480561185, 27.66775903872139, 27.667551237480264, 25.152239521834474, 20.95971595442521, 16.76719130619863, 16.767182965979465, 75.40632491932604, 45.23244591667227, 67.82293754616288, 373.7789198151934, 213.2750114961947, 108.76767144317681, 176.40676502967926, 97.84499044913238, 88.66609253250796, 119.56415221526593, 32.55673584395849, 26.713370011924123, 23.37444108470911, 20.03523593296376, 15.86140120729821, 15.861406437055752, 13.357106403762034, 13.357103695200895, 13.357104632557972, 12.522335335433558, 55.9341442353863, 39.22879794464681, 40.92691879907663, 105.20551150947917, 50.09964751583537, 53.405617528779395, 334.99893366270953, 199.57932492441284, 119.56415221526593, 117.77548053485326, 91.88227747262712, 80.17080821606483, 156.98641143757914, 80.08774133939716, 53.34029292049241, 25.004383618047235, 22.504172424626816, 20.837362980208535, 16.670324427497338, 16.670321990484084, 36.67345499440373, 15.836912236270429, 15.836914463826991, 15.003516997719743, 15.83718585714545, 76.74723249124735, 60.87194211332873, 31.67865003482102, 41.68127381867893, 30.86222315768147, 58.40000611589811, 58.3732022006013, 67.64664775784617, 142.802534223, 156.98641143757914, 373.7789198151934, 199.57932492441284, 23.394909366814844, 22.559316958355563, 20.052735403592184, 17.546152360590145, 15.87509611892341, 15.875095651751746, 15.03957047941843, 14.204047505498155, 12.5329856432233, 12.532984047562918, 15.874906162285926, 13.368563538848573, 35.92081270630308, 70.26503310731671, 93.62046888869897, 37.58967290242696, 103.72603348219573, 334.99893366270953, 46.84155627519369, 55.99503282094949, 373.7789198151934, 142.802534223, 40.1270800117725, 105.20551150947917], \"Category\": [\"Default\", \"Default\", \"Default\", \"Default\", \"Default\", \"Default\", \"Default\", \"Default\", \"Default\", \"Default\", \"Topic1\", \"Topic1\", \"Topic1\", \"Topic1\", \"Topic1\", \"Topic1\", \"Topic1\", \"Topic1\", \"Topic1\", \"Topic1\", \"Topic1\", \"Topic1\", \"Topic1\", \"Topic1\", \"Topic1\", \"Topic1\", \"Topic1\", \"Topic1\", \"Topic1\", \"Topic1\", \"Topic2\", \"Topic2\", \"Topic2\", \"Topic2\", \"Topic2\", \"Topic2\", \"Topic2\", \"Topic2\", \"Topic2\", \"Topic2\", \"Topic2\", \"Topic2\", \"Topic2\", \"Topic2\", \"Topic2\", \"Topic2\", \"Topic2\", \"Topic2\", \"Topic2\", \"Topic2\", \"Topic3\", \"Topic3\", \"Topic3\", \"Topic3\", \"Topic3\", \"Topic3\", \"Topic3\", \"Topic3\", \"Topic3\", \"Topic3\", \"Topic3\", \"Topic3\", \"Topic3\", \"Topic3\", \"Topic3\", \"Topic3\", \"Topic3\", \"Topic3\", \"Topic3\", \"Topic3\", \"Topic3\", \"Topic3\", \"Topic3\", \"Topic3\", \"Topic4\", \"Topic4\", \"Topic4\", \"Topic4\", \"Topic4\", \"Topic4\", \"Topic4\", \"Topic4\", \"Topic4\", \"Topic4\", \"Topic4\", \"Topic4\", \"Topic4\", \"Topic4\", \"Topic4\", \"Topic4\", \"Topic4\", \"Topic4\", \"Topic4\", \"Topic4\", \"Topic4\", \"Topic4\", \"Topic4\", \"Topic5\", \"Topic5\", \"Topic5\", \"Topic5\", \"Topic5\", \"Topic5\", \"Topic5\", \"Topic5\", \"Topic5\", \"Topic5\", \"Topic5\", \"Topic5\", \"Topic5\", \"Topic5\", \"Topic5\", \"Topic5\", \"Topic5\", \"Topic5\", \"Topic5\", \"Topic5\", \"Topic5\", \"Topic5\", \"Topic5\", \"Topic5\"], \"logprob\": [10.0, 9.0, 8.0, 7.0, 6.0, 5.0, 4.0, 3.0, 2.0, 1.0, -3.9322, -5.2157, -5.5576, -5.6643, -5.8918, -5.8922, -5.9808, -6.1498, -6.4496, -6.5513, -5.1247, -4.6326, -5.2169, -4.1194, -5.3199, -5.4028, -5.3137, -4.8167, -5.2486, -5.295, -5.2243, -5.511, -5.6809, -5.7529, -5.9748, -5.9761, -6.0727, -6.2605, -6.4919, -6.492, -5.2103, -5.6493, -5.4516, -4.3955, -4.8114, -5.3327, -5.1605, -5.5363, -5.5824, -5.5599, -5.8076, -6.0101, -6.1487, -6.3064, -6.5491, -6.5491, -6.7293, -6.7293, -6.7294, -6.7973, -5.3393, -5.7192, -5.7086, -4.9113, -5.5956, -5.5778, -4.2091, -4.6436, -5.0648, -5.1168, -5.2713, -5.3659, -5.0786, -5.391, -5.1965, -5.9681, -6.0766, -6.156, -6.3874, -6.3874, -5.6002, -6.4408, -6.4408, -6.4975, -6.4471, -4.9965, -5.23, -5.819, -5.5867, -5.8924, -5.4694, -5.5297, -5.462, -5.2865, -5.3097, -5.068, -5.5841, -5.9299, -5.9667, -6.0883, -6.2267, -6.3309, -6.331, -6.3875, -6.4475, -6.579, -6.5794, -6.3449, -6.5238, -5.7337, -5.2142, -5.2679, -5.8452, -5.2837, -4.6552, -5.7493, -5.7054, -5.1296, -5.5699, -5.8367, -5.7734], \"loglift\": [10.0, 9.0, 8.0, 7.0, 6.0, 5.0, 4.0, 3.0, 2.0, 1.0, 1.5361, 1.5335, 1.5281, 1.5268, 1.5225, 1.522, 1.5205, 1.5157, 1.5036, 1.502, 1.4908, 1.4525, 1.4636, 1.1196, 1.1673, 1.2134, 1.0017, 0.078, 0.7863, 0.1608, 1.5362, 1.5323, 1.5295, 1.5281, 1.5233, 1.522, 1.5208, 1.5153, 1.507, 1.5069, 1.2852, 1.3572, 1.1498, 0.4992, 0.6444, 0.7964, 0.4851, 0.6987, 0.7511, 0.4746, 1.5278, 1.5231, 1.5181, 1.5145, 1.5054, 1.5054, 1.497, 1.497, 1.4969, 1.4935, 1.4549, 1.4297, 1.3979, 1.2512, 1.3088, 1.2626, 0.7952, 0.8786, 0.9697, 0.9328, 1.0266, 1.0683, 0.6836, 1.0443, 1.6451, 1.6312, 1.6281, 1.6256, 1.6174, 1.6174, 1.6161, 1.6152, 1.6152, 1.6126, 1.6089, 1.4814, 1.4796, 1.5438, 1.5016, 1.4964, 1.2817, 1.2218, 1.1421, 0.5704, 0.4525, -0.1733, -0.062, 1.7359, 1.7356, 1.7318, 1.7268, 1.7227, 1.7226, 1.7201, 1.7174, 1.711, 1.7106, 1.7087, 1.7017, 1.5033, 1.3519, 1.0112, 1.3464, 0.8929, 0.3491, 1.2223, 1.0877, -0.2349, 0.2871, 1.2896, 0.389]}, \"token.table\": {\"Topic\": [3, 4, 2, 3, 3, 5, 1, 1, 2, 3, 4, 5, 1, 4, 3, 5, 2, 3, 4, 5, 1, 1, 2, 2, 3, 4, 5, 2, 3, 4, 5, 1, 5, 1, 3, 5, 5, 4, 2, 3, 5, 3, 4, 1, 2, 3, 4, 2, 4, 1, 2, 3, 5, 3, 1, 3, 4, 5, 2, 3, 5, 2, 3, 4, 1, 2, 3, 4, 3, 5, 3, 5, 5, 2, 1, 3, 5, 4, 5, 5, 4, 3, 1, 2, 3, 4, 5, 2, 3, 4, 5, 2, 3, 3, 4, 2, 2, 3, 4, 1, 3, 2, 2, 3, 5, 1, 4, 1, 2, 3, 4, 5, 1, 2, 4, 1, 2, 3, 4, 5, 2, 4, 5, 1, 1, 2, 4, 5, 3, 2, 3, 5, 1, 2, 3, 4, 5, 1, 4, 3, 4, 2, 3, 5, 2, 1, 2, 3, 4, 5, 2, 3, 2, 4, 4, 5, 1, 4, 5, 4, 3, 1, 2, 4, 1, 2, 3, 4, 5, 2, 4, 4, 4, 1, 2, 5, 3, 1, 3, 4, 5, 5, 5, 1, 1, 2, 3, 4, 5, 4, 5, 1, 2, 3, 4, 1, 2, 3, 4, 5, 1, 2, 3, 4, 5, 2, 2, 3, 5], \"Freq\": [0.892201694514989, 0.10196590794457018, 0.9890677525155571, 0.9456916736561698, 0.7414060240843189, 0.2566405467984181, 0.9685759710510025, 0.9638275275563043, 0.2122682912136517, 0.5434068255069484, 0.2122682912136517, 0.025472194945638207, 0.9828207869095505, 0.9598143497810223, 0.9839807470325329, 0.957473370001705, 0.32521936753988334, 0.07391349262270076, 0.5913079409816061, 0.9724305803104769, 0.9837678100474518, 0.9420910068827357, 0.04486147651822551, 0.15236888315236607, 0.5985920409557238, 0.10883491653740435, 0.14148539149862563, 0.15924945204534782, 0.42041855339971823, 0.29938896984525387, 0.12102958355446433, 0.9149717346127264, 0.08797805140506985, 0.19957388925005098, 0.6236684039064093, 0.17462715309379462, 0.9448761687886551, 0.9471379660062695, 0.20294707157030178, 0.320442744584687, 0.46998269205754095, 0.34262297160380867, 0.6509836460472365, 0.21462519341669795, 0.4292503868333959, 0.1430834622777986, 0.21462519341669795, 0.8179968880781249, 0.15475616801478037, 0.944591452637091, 0.16072854227585734, 0.3214570845517147, 0.5000443537471118, 0.9456919854658328, 0.7182123277765714, 0.19451583877282144, 0.07481378414339286, 0.9308776483450059, 0.9542114045575801, 0.9117865428561478, 0.07151267002793316, 0.9541893865620108, 0.1439495353741127, 0.8636972122446761, 0.24850543731395197, 0.4032352379056579, 0.22506152813339048, 0.11721954590280753, 0.2227121102579126, 0.7794923859026941, 0.9483292367293514, 0.9831198590846001, 0.9475016558886226, 0.9758650840573372, 0.683909927750415, 0.2367380519136052, 0.07891268397120173, 0.9598316985777522, 0.985634552023346, 0.9688733832143827, 0.977596491214443, 0.9732953943435181, 0.23008253125275438, 0.3504745534198933, 0.12306740043751978, 0.1605226962228519, 0.1364442917894241, 0.16806424431181083, 0.26610172016036715, 0.33612848862362166, 0.2310883359287399, 0.9542444949670844, 0.973264817310218, 0.5993426609021824, 0.3870754684993261, 0.9852393815346304, 0.12216898185144608, 0.8551828729601225, 0.9331145492172096, 0.9923166514171684, 0.004747926561804634, 0.9758394549956777, 0.3273320879942061, 0.014231829912791571, 0.6546641759884122, 0.9913624357255328, 0.9597893592045724, 0.13528455420031998, 0.09018970280021331, 0.5110749825345421, 0.18037940560042662, 0.08517916375575701, 0.21218379250172592, 0.7691662478187564, 0.01326148703135787, 0.46855535136076976, 0.17570825676028864, 0.19244237645174472, 0.11713883784019244, 0.041835299228640155, 0.06849314351203618, 0.6849314351203618, 0.23972600229212665, 0.9638284346083843, 0.02492082652678988, 0.2492082652678988, 0.1246041326339494, 0.6230206631697469, 0.9732648856107032, 0.3429121458259721, 0.5603686285448812, 0.09200081961184618, 0.6530511419097873, 0.10569613857499448, 0.09437155229910221, 0.12079558694285084, 0.022649172551784533, 0.9254504017808466, 0.06382416564005838, 0.7489848793236904, 0.24342008578019939, 0.019960220272686, 0.778448590634754, 0.179641982454174, 0.9758724134365764, 0.5759376358732199, 0.16613585650189033, 0.19936302780226842, 0.01107572376679269, 0.055378618833963444, 0.9542449696209508, 0.9828995189620091, 0.1563574295837774, 0.8339062911134795, 0.8838760480393747, 0.09470100514707586, 0.21282441112924616, 0.13301525695577887, 0.6650762847788942, 0.959789499514963, 0.9582877058119069, 0.1314234394740675, 0.03285585986851688, 0.8378244266471805, 0.17006150526570055, 0.3457917273735911, 0.25509225789855083, 0.16439278842351054, 0.0623558852640902, 0.12960829100234206, 0.8424538915152234, 0.993620340236983, 0.9471543301001761, 0.10674282405616603, 0.3202284721684981, 0.5764112499032966, 0.9732646882515322, 0.9789352099529428, 0.02726767903794713, 0.9543687663281496, 0.9448874750287064, 0.9448761965944323, 0.9752068309786125, 0.9811085176248077, 0.011278268517735418, 0.4511307407094167, 0.3721828610852688, 0.05639134258867709, 0.10150441665961876, 0.9471541968772653, 0.9574734919042238, 0.13269846936184762, 0.6782366211827768, 0.117954194988309, 0.07372137186769313, 0.11641828101837116, 0.11343319688969498, 0.47164329233083707, 0.05970168257352368, 0.2417918144227709, 0.1838781665050956, 0.46888932458799387, 0.11952080822831215, 0.10113299157780259, 0.11952080822831215, 0.9862529736541765, 0.37599046922674656, 0.2024564065067097, 0.41455359427564364], \"Term\": [\"ahead\", \"ahead\", \"aid\", \"amp\", \"anti\", \"anti\", \"arrest\", \"backs\", \"baghdad\", \"baghdad\", \"baghdad\", \"baghdad\", \"bali\", \"best\", \"blast\", \"blue\", \"boost\", \"boost\", \"boost\", \"championship\", \"charge\", \"charged\", \"charged\", \"claims\", \"claims\", \"claims\", \"claims\", \"council\", \"council\", \"council\", \"council\", \"court\", \"court\", \"crash\", \"crash\", \"crash\", \"crashes\", \"crows\", \"cup\", \"cup\", \"cup\", \"dead\", \"dead\", \"death\", \"death\", \"death\", \"death\", \"defends\", \"defends\", \"dengue\", \"denies\", \"denies\", \"denies\", \"dept\", \"face\", \"face\", \"face\", \"families\", \"fires\", \"forces\", \"forces\", \"free\", \"funding\", \"funding\", \"govt\", \"govt\", \"govt\", \"govt\", \"greens\", \"greens\", \"helicopter\", \"hewitt\", \"highlights\", \"hill\", \"hospital\", \"hospital\", \"hospital\", \"indian\", \"insurance\", \"international\", \"investigate\", \"investigation\", \"iraq\", \"iraq\", \"iraq\", \"iraq\", \"iraq\", \"iraqi\", \"iraqi\", \"iraqi\", \"iraqi\", \"issue\", \"journalists\", \"killed\", \"killed\", \"korea\", \"land\", \"land\", \"looking\", \"man\", \"man\", \"missile\", \"mp\", \"mp\", \"mp\", \"murder\", \"mystery\", \"new\", \"new\", \"new\", \"new\", \"new\", \"north\", \"north\", \"north\", \"nsw\", \"nsw\", \"nsw\", \"nsw\", \"nsw\", \"oil\", \"oil\", \"oil\", \"pakistan\", \"pay\", \"pay\", \"pay\", \"pay\", \"pilot\", \"plan\", \"plan\", \"plan\", \"police\", \"police\", \"police\", \"police\", \"police\", \"probe\", \"probe\", \"protest\", \"protest\", \"protesters\", \"protesters\", \"protesters\", \"push\", \"qld\", \"qld\", \"qld\", \"qld\", \"qld\", \"raids\", \"rally\", \"report\", \"report\", \"reports\", \"reports\", \"rise\", \"rise\", \"rise\", \"russia\", \"safe\", \"sars\", \"sars\", \"sars\", \"says\", \"says\", \"says\", \"says\", \"says\", \"school\", \"school\", \"security\", \"sharks\", \"south\", \"south\", \"south\", \"sri\", \"stabbing\", \"strike\", \"strike\", \"success\", \"survey\", \"tells\", \"trial\", \"troops\", \"troops\", \"troops\", \"troops\", \"troops\", \"uni\", \"upset\", \"vic\", \"vic\", \"vic\", \"vic\", \"war\", \"war\", \"war\", \"war\", \"war\", \"water\", \"water\", \"water\", \"water\", \"water\", \"work\", \"world\", \"world\", \"world\"]}, \"R\": 10, \"lambda.step\": 0.01, \"plot.opts\": {\"xlab\": \"PC1\", \"ylab\": \"PC2\"}, \"topic.order\": [4, 3, 1, 5, 2]};\n",
       "\n",
       "function LDAvis_load_lib(url, callback){\n",
       "  var s = document.createElement('script');\n",
       "  s.src = url;\n",
       "  s.async = true;\n",
       "  s.onreadystatechange = s.onload = callback;\n",
       "  s.onerror = function(){console.warn(\"failed to load library \" + url);};\n",
       "  document.getElementsByTagName(\"head\")[0].appendChild(s);\n",
       "}\n",
       "\n",
       "if(typeof(LDAvis) !== \"undefined\"){\n",
       "   // already loaded: just create the visualization\n",
       "   !function(LDAvis){\n",
       "       new LDAvis(\"#\" + \"ldavis_el919381402520317289927407990709\", ldavis_el919381402520317289927407990709_data);\n",
       "   }(LDAvis);\n",
       "}else if(typeof define === \"function\" && define.amd){\n",
       "   // require.js is available: use it to load d3/LDAvis\n",
       "   require.config({paths: {d3: \"https://d3js.org/d3.v5\"}});\n",
       "   require([\"d3\"], function(d3){\n",
       "      window.d3 = d3;\n",
       "      LDAvis_load_lib(\"https://cdn.jsdelivr.net/gh/bmabey/pyLDAvis@3.3.1/pyLDAvis/js/ldavis.v3.0.0.js\", function(){\n",
       "        new LDAvis(\"#\" + \"ldavis_el919381402520317289927407990709\", ldavis_el919381402520317289927407990709_data);\n",
       "      });\n",
       "    });\n",
       "}else{\n",
       "    // require.js not available: dynamically load d3 & LDAvis\n",
       "    LDAvis_load_lib(\"https://d3js.org/d3.v5.js\", function(){\n",
       "         LDAvis_load_lib(\"https://cdn.jsdelivr.net/gh/bmabey/pyLDAvis@3.3.1/pyLDAvis/js/ldavis.v3.0.0.js\", function(){\n",
       "                 new LDAvis(\"#\" + \"ldavis_el919381402520317289927407990709\", ldavis_el919381402520317289927407990709_data);\n",
       "            })\n",
       "         });\n",
       "}\n",
       "</script>"
      ],
      "text/plain": [
       "PreparedData(topic_coordinates=              x         y  topics  cluster       Freq\n",
       "topic                                                \n",
       "3     -0.196386  0.019808       1        1  21.330157\n",
       "2      0.030026  0.047046       2        1  21.270020\n",
       "0      0.045141 -0.056043       3        1  21.254539\n",
       "4      0.039708 -0.140865       4        1  19.041767\n",
       "1      0.081510  0.130054       5        1  17.103518, topic_info=        Term        Freq       Total Category  logprob  loglift\n",
       "5330     man  210.000000  210.000000  Default  10.0000  10.0000\n",
       "2215   court  113.000000  113.000000  Default   9.0000   9.0000\n",
       "6527  police  264.000000  264.000000  Default   8.0000   8.0000\n",
       "540     anti  105.000000  105.000000  Default   7.0000   7.0000\n",
       "7225  report   76.000000   76.000000  Default   6.0000   6.0000\n",
       "...      ...         ...         ...      ...      ...      ...\n",
       "2542  denies   28.419823   55.995033   Topic5  -5.7054   1.0877\n",
       "4643    iraq   50.546159  373.778920   Topic5  -5.1296  -0.2349\n",
       "4644   iraqi   32.545199  142.802534   Topic5  -5.5699   0.2871\n",
       "6309     pay   24.921847   40.127080   Topic5  -5.8367   1.2896\n",
       "540     anti   26.550947  105.205512   Topic5  -5.7734   0.3890\n",
       "\n",
       "[121 rows x 6 columns], token_table=      Topic      Freq   Term\n",
       "term                        \n",
       "379       3  0.892202  ahead\n",
       "379       4  0.101966  ahead\n",
       "380       2  0.989068    aid\n",
       "493       3  0.945692    amp\n",
       "540       3  0.741406   anti\n",
       "...     ...       ...    ...\n",
       "9525      5  0.119521  water\n",
       "9714      2  0.986253   work\n",
       "9726      2  0.375990  world\n",
       "9726      3  0.202456  world\n",
       "9726      5  0.414554  world\n",
       "\n",
       "[209 rows x 3 columns], R=10, lambda_step=0.01, plot_opts={'xlab': 'PC1', 'ylab': 'PC2'}, topic_order=[4, 3, 1, 5, 2])"
      ]
     },
     "execution_count": 9,
     "metadata": {},
     "output_type": "execute_result"
    }
   ],
   "source": [
    "import pyLDAvis\n",
    "import pyLDAvis.sklearn\n",
    "pyLDAvis.enable_notebook()\n",
    "\n",
    "pyLDAvis.sklearn.prepare(LDA, dtm, count_vect, R = 10)"
   ]
  },
  {
   "cell_type": "markdown",
   "metadata": {},
   "source": [
    "#### Slide 26"
   ]
  },
  {
   "cell_type": "code",
   "execution_count": 10,
   "metadata": {},
   "outputs": [
    {
     "name": "stdout",
     "output_type": "stream",
     "text": [
      "[[0.03351358 0.0351082  0.52972728 0.03365488 0.36799605]\n",
      " [0.04024302 0.04025797 0.04002988 0.4481584  0.43131073]\n",
      " [0.04038569 0.04120298 0.04070665 0.0400949  0.83760979]\n",
      " ...\n",
      " [0.02928706 0.0290085  0.88376206 0.02898407 0.02895831]\n",
      " [0.03403925 0.03354175 0.8653983  0.03357617 0.03344453]\n",
      " [0.03354834 0.86412169 0.0348293  0.03396242 0.03353826]]\n"
     ]
    }
   ],
   "source": [
    "topic_values = LDA.transform(dtm)\n",
    "print(topic_values)"
   ]
  },
  {
   "cell_type": "markdown",
   "metadata": {},
   "source": [
    "#### Slide 27"
   ]
  },
  {
   "cell_type": "code",
   "execution_count": 11,
   "metadata": {},
   "outputs": [],
   "source": [
    "# obtaining the index of the max value per observation\n",
    "# axis = 1 means the max value for 'columns'\n",
    "max_topic_values = topic_values.argmax(axis=1)\n",
    "\n",
    "# conveting values to string\n",
    "max_topic_values = max_topic_values.astype(\"str\")"
   ]
  },
  {
   "cell_type": "markdown",
   "metadata": {},
   "source": [
    "#### Slide 28: recall that the first index in Python is 0"
   ]
  },
  {
   "cell_type": "code",
   "execution_count": 12,
   "metadata": {},
   "outputs": [],
   "source": [
    "max_topic_values[max_topic_values == \"0\"] = \"Rally\"           # first topic of LDA\n",
    "max_topic_values[max_topic_values == \"1\"] = \"?\"               # second topic of LDA \n",
    "max_topic_values[max_topic_values == \"2\"] = \"International\"   # third topic of LDA\n",
    "max_topic_values[max_topic_values == \"3\"] = \"Trial\"           # fourth topic of LDA\n",
    "max_topic_values[max_topic_values == \"4\"] = \"Security\"        # fifth topic of LDA"
   ]
  },
  {
   "cell_type": "markdown",
   "metadata": {},
   "source": [
    "#### Slide 29"
   ]
  },
  {
   "cell_type": "code",
   "execution_count": 13,
   "metadata": {},
   "outputs": [
    {
     "data": {
      "text/html": [
       "<div>\n",
       "<style scoped>\n",
       "    .dataframe tbody tr th:only-of-type {\n",
       "        vertical-align: middle;\n",
       "    }\n",
       "\n",
       "    .dataframe tbody tr th {\n",
       "        vertical-align: top;\n",
       "    }\n",
       "\n",
       "    .dataframe thead th {\n",
       "        text-align: right;\n",
       "    }\n",
       "</style>\n",
       "<table border=\"1\" class=\"dataframe\">\n",
       "  <thead>\n",
       "    <tr style=\"text-align: right;\">\n",
       "      <th></th>\n",
       "      <th>Text</th>\n",
       "      <th>Topic</th>\n",
       "    </tr>\n",
       "  </thead>\n",
       "  <tbody>\n",
       "    <tr>\n",
       "      <th>0</th>\n",
       "      <td>aba decides against community broadcasting lic...</td>\n",
       "      <td>International</td>\n",
       "    </tr>\n",
       "    <tr>\n",
       "      <th>1</th>\n",
       "      <td>act fire witnesses must be aware of defamation</td>\n",
       "      <td>Trial</td>\n",
       "    </tr>\n",
       "    <tr>\n",
       "      <th>2</th>\n",
       "      <td>a g calls for infrastructure protection summit</td>\n",
       "      <td>Security</td>\n",
       "    </tr>\n",
       "    <tr>\n",
       "      <th>3</th>\n",
       "      <td>air nz staff in aust strike for pay rise</td>\n",
       "      <td>Security</td>\n",
       "    </tr>\n",
       "    <tr>\n",
       "      <th>4</th>\n",
       "      <td>air nz strike to affect australian travellers</td>\n",
       "      <td>Security</td>\n",
       "    </tr>\n",
       "    <tr>\n",
       "      <th>...</th>\n",
       "      <td>...</td>\n",
       "      <td>...</td>\n",
       "    </tr>\n",
       "    <tr>\n",
       "      <th>9995</th>\n",
       "      <td>vic govt plan aims to reduce water use</td>\n",
       "      <td>International</td>\n",
       "    </tr>\n",
       "    <tr>\n",
       "      <th>9996</th>\n",
       "      <td>vic govt urged to green light marina plan</td>\n",
       "      <td>International</td>\n",
       "    </tr>\n",
       "    <tr>\n",
       "      <th>9997</th>\n",
       "      <td>vic nats leave door open on coalition</td>\n",
       "      <td>International</td>\n",
       "    </tr>\n",
       "    <tr>\n",
       "      <th>9998</th>\n",
       "      <td>waterfall survivors tell of train speeding before</td>\n",
       "      <td>International</td>\n",
       "    </tr>\n",
       "    <tr>\n",
       "      <th>9999</th>\n",
       "      <td>water wont be moved without studies gallop</td>\n",
       "      <td>?</td>\n",
       "    </tr>\n",
       "  </tbody>\n",
       "</table>\n",
       "<p>10000 rows × 2 columns</p>\n",
       "</div>"
      ],
      "text/plain": [
       "                                                   Text          Topic\n",
       "0     aba decides against community broadcasting lic...  International\n",
       "1        act fire witnesses must be aware of defamation          Trial\n",
       "2        a g calls for infrastructure protection summit       Security\n",
       "3              air nz staff in aust strike for pay rise       Security\n",
       "4         air nz strike to affect australian travellers       Security\n",
       "...                                                 ...            ...\n",
       "9995             vic govt plan aims to reduce water use  International\n",
       "9996          vic govt urged to green light marina plan  International\n",
       "9997              vic nats leave door open on coalition  International\n",
       "9998  waterfall survivors tell of train speeding before  International\n",
       "9999         water wont be moved without studies gallop              ?\n",
       "\n",
       "[10000 rows x 2 columns]"
      ]
     },
     "execution_count": 13,
     "metadata": {},
     "output_type": "execute_result"
    }
   ],
   "source": [
    "data_w_topic = pandas.DataFrame()\n",
    "\n",
    "# retrieving the first 10,000 texts (i.e., 10,000 values from the second column)\n",
    "data_w_topic[\"Text\"]  = raw_data.iloc[0:10000,1]\n",
    "\n",
    "# adding topics to the original data\n",
    "data_w_topic[\"Topic\"] = max_topic_values\n",
    "data_w_topic"
   ]
  },
  {
   "cell_type": "markdown",
   "metadata": {},
   "source": [
    "#### Slide 30"
   ]
  },
  {
   "cell_type": "code",
   "execution_count": null,
   "metadata": {},
   "outputs": [],
   "source": [
    "# creating a DTM with the last two rows of raw_data\n",
    "dtm = count_vect.transform(raw_data[\"headline_text\"][-2:])\n",
    "\n",
    "# Applying the LDA model to the DTM\n",
    "topic_values = LDA.transform(dtm)\n",
    "\n",
    "# obtaining the index of the max value per observation\n",
    "# axis = 1 means the max value for 'columns'\n",
    "max_topic_values = topic_values.argmax(axis=1)\n",
    "\n",
    "# conveting values to string\n",
    "max_topic_values = max_topic_values.astype(\"str\")\n",
    "\n",
    "# renaming the topics\n",
    "max_topic_values[max_topic_values == \"0\"] = \"Rally\"           # first topic of LDA\n",
    "max_topic_values[max_topic_values == \"1\"] = \"?\"               # second topic of LDA \n",
    "max_topic_values[max_topic_values == \"2\"] = \"International\"   # third topic of LDA\n",
    "max_topic_values[max_topic_values == \"3\"] = \"Trial\"           # fourth topic of LDA\n",
    "max_topic_values[max_topic_values == \"4\"] = \"Security\"        # fifth topic of LDA\n",
    "\n",
    "# printing the topics assigned to the two documents\n",
    "print(max_topic_values)\n"
   ]
  }
 ],
 "metadata": {
  "interpreter": {
   "hash": "aee8b7b246df8f9039afb4144a1f6fd8d2ca17a180786b69acc140d282b71a49"
  },
  "kernelspec": {
   "display_name": "Python 3.9.0 64-bit",
   "name": "python3"
  },
  "language_info": {
   "codemirror_mode": {
    "name": "ipython",
    "version": 3
   },
   "file_extension": ".py",
   "mimetype": "text/x-python",
   "name": "python",
   "nbconvert_exporter": "python",
   "pygments_lexer": "ipython3",
   "version": "3.9.0"
  },
  "orig_nbformat": 4
 },
 "nbformat": 4,
 "nbformat_minor": 2
}
